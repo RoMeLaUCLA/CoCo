{
 "cells": [
  {
   "cell_type": "code",
   "execution_count": null,
   "metadata": {},
   "outputs": [],
   "source": [
    "using Distributed\n",
    "addprocs(12)\n",
    "\n",
    "@everywhere include(\"problem.jl\")\n",
    "@everywhere include(\"../fileIO.jl\")\n",
    "\n",
    "@everywhere using LinearAlgebra, Random, Convex, Mosek, MosekTools"
   ]
  },
  {
   "cell_type": "markdown",
   "metadata": {},
   "source": [
    "# Manipulation System\n",
    "Mixed-integer implementation of grasp optimization from _Task-Oriented Quality Measures for Dextrous Grasping_, Haschke _et al._ (2005)"
   ]
  },
  {
   "cell_type": "code",
   "execution_count": null,
   "metadata": {},
   "outputs": [],
   "source": [
    "@everywhere function make_dataset(jj;Ndata=500)\n",
    "    Random.seed!(jj)\n",
    "\n",
    "    # params\n",
    "    mu_min, mu_max = 0.1, 0.1\n",
    "    h_min, h_max = 2, 2\n",
    "    r_min, r_max = 1, 1\n",
    "    w_std = 10\n",
    "\n",
    "    N_v = 5 #number of points to choose from\n",
    "    N_h = 6\n",
    "    num_grasps = 4\n",
    "\n",
    "    params = Dict(\"N_v\"=>N_v, \"N_h\"=>N_h,\n",
    "                    \"num_grasps\"=>num_grasps,\n",
    "                    \"mu_min\"=>mu_min, \"mu_max\"=>mu_max,\n",
    "                    \"h_min\"=>h_min, \"h_max\"=>h_max,\n",
    "                    \"r_min\"=>r_min, \"r_max\"=>r_max,\n",
    "                    \"w_std\"=>w_std)\n",
    "\n",
    "    UB = upperBoundManipulationProb()[1]\n",
    "    probdata = Dict(\"params\"=>params, \"UB\"=>UB)\n",
    "\n",
    "    # Problem\n",
    "    as = []\n",
    "    fs = []\n",
    "    Ys = []\n",
    "    hs = []\n",
    "    rs = []\n",
    "    ws = []\n",
    "    mus = []\n",
    "    J = []\n",
    "    solution_times = []\n",
    "    node_counts = []\n",
    "    ii = 0\n",
    "\n",
    "    while ii < Ndata\n",
    "        h = h_min + rand()*(h_max-h_min)\n",
    "        r = r_min + rand()*(r_max-r_min)\n",
    "        w = w_std*randn(12)\n",
    "        w = exp.(w)/sum(exp.(w))\n",
    "        # @show sum(w)\n",
    "        mu = mu_min + rand()*(mu_max-mu_min)\n",
    "        \n",
    "        # Solve Problem        \n",
    "        a,f,y,cost,solve_time,node_count,solver_success = solveManipulationProb(\n",
    "            N_v,N_h,num_grasps,w,h,r,mu)\n",
    "\n",
    "        # Save all the data\n",
    "        if solver_success\n",
    "            push!(as, a)\n",
    "            push!(fs, f)\n",
    "            push!(Ys, y)\n",
    "            push!(hs, h)\n",
    "            push!(rs, r)\n",
    "            push!(ws, w)\n",
    "            push!(mus, mu)\n",
    "            push!(J, cost)\n",
    "            push!(solution_times, solve_time)\n",
    "            push!(node_counts,node_count)\n",
    "            ii += 1\n",
    "        end\n",
    "    end\n",
    "    \n",
    "    base = \"data/testdata\"\n",
    "    filename = string(base, string(jj), \".jld\")\n",
    "\n",
    "    training_data = Dict(\"a\"=>as, \"f\"=>fs, \"Y\"=>Ys,\n",
    "        \"J\"=>J,\n",
    "        \"h\"=>hs, \"r\"=>rs, \"ws\"=>ws, \"mu\"=>mus,\n",
    "        \"solve_time\"=>solution_times,\n",
    "        \"node_count\"=>node_counts,\n",
    "        \"prob\"=>probdata)\n",
    "    writeTrainingData(filename, training_data)\n",
    "    return\n",
    "end"
   ]
  },
  {
   "cell_type": "code",
   "execution_count": null,
   "metadata": {},
   "outputs": [],
   "source": [
    "Nsets = 20\n",
    "Ndata = 500\n",
    "dir_idxs = [ii for ii in 1:Nsets]\n",
    "time_parallel = @elapsed results = @showprogress pmap(make_dataset, dir_idxs)    "
   ]
  }
 ],
 "metadata": {
  "kernelspec": {
   "display_name": "Julia 1.2.0",
   "language": "julia",
   "name": "julia-1.2"
  },
  "language_info": {
   "file_extension": ".jl",
   "mimetype": "application/julia",
   "name": "julia",
   "version": "1.2.0"
  }
 },
 "nbformat": 4,
 "nbformat_minor": 4
}
