{
 "cells": [
  {
   "cell_type": "code",
   "execution_count": 1,
   "metadata": {},
   "outputs": [],
   "source": [
    "%load_ext autoreload\n",
    "%autoreload 2\n",
    "\n",
    "import matplotlib.pyplot as plt\n",
    "%matplotlib inline\n",
    "\n",
    "import torch\n",
    "from torch.autograd import Variable\n",
    "\n",
    "import numpy as np\n",
    "import cvxpy as cp\n",
    "\n",
    "from free_flyer.free_flyer import FreeFlyer\n",
    "import pickle, os"
   ]
  },
  {
   "cell_type": "code",
   "execution_count": 2,
   "metadata": {},
   "outputs": [],
   "source": [
    "#load train/test data\n",
    "prob = FreeFlyer() #use default config, pass different config file oth.\n",
    "config_fn = './free_flyer/config/default.p'\n",
    "\n",
    "config_file = open(config_fn,'rb')\n",
    "dataset_name, _, _ = pickle.load(config_file); config_file.close()\n",
    "\n",
    "relative_path = os.getcwd()\n",
    "dataset_fn = relative_path + '/free_flyer/data/' + dataset_name\n",
    "\n",
    "train_file = open(dataset_fn+'/train.p','rb')\n",
    "# p_train, x_train, u_train, y_train, c_train, times_train = pickle.load(train_file)\n",
    "train_data = pickle.load(train_file)\n",
    "train_file.close()\n",
    "x_train = train_data[1]\n",
    "y_train = train_data[3]\n",
    "\n",
    "test_file = open(dataset_fn+'/test.p','rb')\n",
    "# p_test, x_test, u_test, y_test, c_test, times_test = pickle.load(test_file)\n",
    "test_data = pickle.load(test_file)\n",
    "p_test, x_test, u_test, y_test, c_test, times_test = test_data\n",
    "test_file.close()\n",
    "\n",
    "n_test = x_test.shape[0]"
   ]
  },
  {
   "cell_type": "markdown",
   "metadata": {},
   "source": [
    "# task-specific MLOPT"
   ]
  },
  {
   "cell_type": "code",
   "execution_count": 3,
   "metadata": {},
   "outputs": [],
   "source": [
    "from solvers.mlopt_ff import MLOPT_FF"
   ]
  },
  {
   "cell_type": "code",
   "execution_count": 4,
   "metadata": {},
   "outputs": [
    {
     "name": "stdout",
     "output_type": "stream",
     "text": [
      "430\n"
     ]
    }
   ],
   "source": [
    "system = 'free_flyer'\n",
    "prob_features = ['x0', 'obstacles']\n",
    "mlopt_ts_obj = MLOPT_FF(system, prob, prob_features)\n",
    "\n",
    "n_features = 4 + 4*prob.n_obs + prob.n_obs\n",
    "mlopt_ts_obj.construct_strategies(n_features, train_data)\n",
    "print(mlopt_ts_obj.n_strategies)"
   ]
  },
  {
   "cell_type": "code",
   "execution_count": 5,
   "metadata": {},
   "outputs": [
    {
     "name": "stdout",
     "output_type": "stream",
     "text": [
      "Loading presaved classifier model from models/mloptff_free_flyer_20200702_1648.pt\n"
     ]
    },
    {
     "data": {
      "text/plain": [
       "FFNet(\n",
       "  (activation): ReLU()\n",
       "  (layers): ModuleList(\n",
       "    (0): Linear(in_features=44, out_features=128, bias=True)\n",
       "    (1): Linear(in_features=128, out_features=128, bias=True)\n",
       "    (2): Linear(in_features=128, out_features=128, bias=True)\n",
       "    (3): Linear(in_features=128, out_features=430, bias=True)\n",
       "  )\n",
       ")"
      ]
     },
     "execution_count": 5,
     "metadata": {},
     "output_type": "execute_result"
    }
   ],
   "source": [
    "mlopt_ts_obj.setup_network()\n",
    "\n",
    "fn_saved = 'models/mloptff_free_flyer_20200702_1648.pt'\n",
    "mlopt_ts_obj.load_network(fn_saved)\n",
    "\n",
    "mlopt_ts_obj.model"
   ]
  },
  {
   "cell_type": "code",
   "execution_count": null,
   "metadata": {},
   "outputs": [],
   "source": [
    "mlopt_ts_obj.training_params['TRAINING_ITERATIONS'] = 100\n",
    "mlopt_ts_obj.train(verbose=True)\n",
    "print(mlopt_ts_obj.model_fn)"
   ]
  },
  {
   "cell_type": "code",
   "execution_count": null,
   "metadata": {},
   "outputs": [
    {
     "name": "stdout",
     "output_type": "stream",
     "text": [
      "0 / 10000\n"
     ]
    }
   ],
   "source": [
    "n_succ = 0\n",
    "count = 0\n",
    "gurobi_mlopt_fail = 0\n",
    "\n",
    "costs_mlopt = []\n",
    "total_time_mlopt = []\n",
    "num_solves_mlopt = []\n",
    "\n",
    "cost_ratios_mlopt = []\n",
    "\n",
    "for ii in range(n_test):\n",
    "    if ii % 200 == 0:\n",
    "        print('{} / {}'.format(ii,n_test))\n",
    "    prob_params = {}\n",
    "    for k in p_test.keys():\n",
    "        prob_params[k] = p_test[k][ii]\n",
    "\n",
    "    try:\n",
    "        prob_success, cost, total_time, n_evals, optvals = mlopt_ts_obj.forward(prob_params)\n",
    "\n",
    "        count += 1\n",
    "        if prob_success:\n",
    "            n_succ += 1\n",
    "            costs_mlopt += [cost]\n",
    "            total_time_mlopt += [total_time]\n",
    "            num_solves_mlopt += [n_evals]\n",
    "\n",
    "            true_cost = c_test[ii]\n",
    "            cost_ratios_mlopt += [cost / true_cost]\n",
    "    except (KeyboardInterrupt, SystemExit):\n",
    "        raise\n",
    "    except:\n",
    "        print('Solver failed at {}'.format(ii))\n",
    "        gurobi_mlopt_fail += 1\n",
    "        continue\n",
    "\n",
    "costs_mlopt = np.array(costs_mlopt)\n",
    "cost_ratios_mlopt = np.array(cost_ratios_mlopt)\n",
    "total_time_mlopt = np.array(total_time_mlopt)\n",
    "num_solves_mlopt = np.array(num_solves_mlopt, dtype=int)\n",
    "\n",
    "mlopt_percentage = 100 * float(n_succ) / float(count)"
   ]
  },
  {
   "cell_type": "code",
   "execution_count": 17,
   "metadata": {},
   "outputs": [
    {
     "data": {
      "text/plain": [
       "97.61976197619762"
      ]
     },
     "execution_count": 17,
     "metadata": {},
     "output_type": "execute_result"
    }
   ],
   "source": [
    "mlopt_percentage"
   ]
  },
  {
   "cell_type": "markdown",
   "metadata": {},
   "source": [
    "# image encodings"
   ]
  },
  {
   "cell_type": "code",
   "execution_count": 6,
   "metadata": {},
   "outputs": [],
   "source": [
    "from solvers.mlopt_ff import MLOPT_FF"
   ]
  },
  {
   "cell_type": "code",
   "execution_count": 7,
   "metadata": {},
   "outputs": [
    {
     "name": "stdout",
     "output_type": "stream",
     "text": [
      "430\n"
     ]
    }
   ],
   "source": [
    "system = 'free_flyer'\n",
    "prob_features = ['x0', 'obstacles_map']\n",
    "\n",
    "mlopt_cnn = MLOPT_FF(system, prob, prob_features)\n",
    "\n",
    "n_features = 4\n",
    "mlopt_cnn.construct_strategies(n_features, train_data)\n",
    "print(mlopt_cnn.n_strategies)"
   ]
  },
  {
   "cell_type": "code",
   "execution_count": 8,
   "metadata": {},
   "outputs": [
    {
     "name": "stdout",
     "output_type": "stream",
     "text": [
      "Loading presaved classifier model from models/mloptff_free_flyer_20200706_0823.pt\n"
     ]
    },
    {
     "data": {
      "text/plain": [
       "CNNet(\n",
       "  (conv_activation): ReLU()\n",
       "  (ff_activation): ReLU()\n",
       "  (conv_layers): ModuleList(\n",
       "    (0): Conv2d(3, 16, kernel_size=(2, 2), stride=(2, 2))\n",
       "    (1): Conv2d(16, 16, kernel_size=(2, 2), stride=(2, 2))\n",
       "    (2): Conv2d(16, 16, kernel_size=(2, 2), stride=(2, 2))\n",
       "  )\n",
       "  (ff_layers): ModuleList(\n",
       "    (0): Linear(in_features=260, out_features=128, bias=True)\n",
       "    (1): Linear(in_features=128, out_features=128, bias=True)\n",
       "    (2): Linear(in_features=128, out_features=128, bias=True)\n",
       "    (3): Linear(in_features=128, out_features=430, bias=True)\n",
       "  )\n",
       ")"
      ]
     },
     "execution_count": 8,
     "metadata": {},
     "output_type": "execute_result"
    }
   ],
   "source": [
    "mlopt_cnn.setup_network()\n",
    "\n",
    "fn_saved = 'models/mloptff_free_flyer_20200706_0823.pt'\n",
    "mlopt_cnn.load_network(fn_saved)\n",
    "\n",
    "mlopt_cnn.model"
   ]
  },
  {
   "cell_type": "code",
   "execution_count": null,
   "metadata": {},
   "outputs": [],
   "source": [
    "mlopt_cnn.training_params['TRAINING_ITERATIONS'] = 500\n",
    "mlopt_cnn.train(train_data=train_data, verbose=False)"
   ]
  },
  {
   "cell_type": "code",
   "execution_count": null,
   "metadata": {},
   "outputs": [],
   "source": [
    "prob_params = {}\n",
    "idx = np.random.randint(test_data[1].shape[0])\n",
    "for k in p_test.keys():\n",
    "    prob_params[k] = p_test[k][idx]\n",
    "\n",
    "prob_success, cost, total_time, n_evals = mlopt_cnn.forward(prob_params)\n",
    "\n",
    "if prob_success:\n",
    "    print(cost)\n",
    "else:\n",
    "    print('Failed')"
   ]
  },
  {
   "cell_type": "code",
   "execution_count": null,
   "metadata": {},
   "outputs": [],
   "source": [
    "n_succ = 0\n",
    "count = 0\n",
    "gurobi_mlopt_fail = 0\n",
    "\n",
    "costs_cnn = []\n",
    "total_time_cnn = []\n",
    "num_solves_cnn = []\n",
    "\n",
    "cost_ratios_cnn = []\n",
    "costs_ip = []\n",
    "total_time_ip = []\n",
    "num_solves_ip = []\n",
    "\n",
    "for ii in range(n_test):\n",
    "    if ii % 1000 == 0:\n",
    "        print('{} / {}'.format(ii,n_test))\n",
    "    prob_params = {}\n",
    "    for k in p_test.keys():\n",
    "        prob_params[k] = p_test[k][ii]\n",
    "\n",
    "    try:\n",
    "        prob_success, cost, total_time, n_evals, optvals = mlopt_cnn.forward(prob_params)\n",
    "\n",
    "        count += 1\n",
    "        if prob_success:\n",
    "            n_succ += 1\n",
    "            costs_cnn += [cost]\n",
    "            total_time_cnn += [total_time]\n",
    "            num_solves_cnn += [n_evals]\n",
    "\n",
    "            true_cost = c_test[ii]\n",
    "            costs_ip += [true_cost]\n",
    "            total_time_ip += [times_test[ii]]\n",
    "\n",
    "            cost_ratios_cnn += [cost / true_cost]\n",
    "    except (KeyboardInterrupt, SystemExit):\n",
    "        raise\n",
    "    except:\n",
    "        print('Solver failed at {}'.format(ii))\n",
    "        gurobi_mlopt_fail += 1\n",
    "        continue\n",
    "\n",
    "costs_cnn = np.array(costs_cnn)\n",
    "cost_ratios_cnn = np.array(cost_ratios_cnn)\n",
    "total_time_cnn = np.array(total_time_cnn)\n",
    "num_solves_cnn = np.array(num_solves_cnn, dtype=int)\n",
    "\n",
    "costs_ip = np.array(costs_ip)\n",
    "total_time_ip = np.array(total_time_ip)\n",
    "num_solves_ip = np.array(num_solves_ip, dtype=int)\n",
    "\n",
    "cnn_percentage = 100 * float(n_succ) / float(count)"
   ]
  },
  {
   "cell_type": "code",
   "execution_count": 16,
   "metadata": {},
   "outputs": [
    {
     "data": {
      "text/plain": [
       "96.31963196319631"
      ]
     },
     "execution_count": 16,
     "metadata": {},
     "output_type": "execute_result"
    }
   ],
   "source": [
    "cnn_percentage"
   ]
  },
  {
   "cell_type": "markdown",
   "metadata": {},
   "source": [
    "# Results"
   ]
  },
  {
   "cell_type": "code",
   "execution_count": 18,
   "metadata": {},
   "outputs": [],
   "source": [
    "import math\n",
    "import seaborn as sns\n",
    "sns.set(font_scale=1.5, font=\"serif\", style=\"whitegrid\")\n",
    "import pandas as pd\n",
    "\n",
    "flierprops = {'alpha':0.2}"
   ]
  },
  {
   "cell_type": "code",
   "execution_count": 19,
   "metadata": {},
   "outputs": [
    {
     "data": {
      "image/png": "[encoded data removed]",
      "text/plain": [
       "<Figure size 432x288 with 1 Axes>"
      ]
     },
     "metadata": {},
     "output_type": "display_data"
    }
   ],
   "source": [
    "results = {'Gurobi':[100.], 'MLOPT':[mlopt_percentage], 'CNN':[cnn_percentage]}\n",
    "results = pd.DataFrame(results)\n",
    "\n",
    "ax1 = sns.barplot(data=results, palette=\"Set3\", label='small')\n",
    "ax1.set(xlabel=\"\", ylabel=\"Percent Success\")\n",
    "\n",
    "plt.tight_layout()\n",
    "\n",
    "figure = ax1.get_figure()\n",
    "# # figure.savefig(\"loss.pdf\")"
   ]
  },
  {
   "cell_type": "code",
   "execution_count": 20,
   "metadata": {},
   "outputs": [
    {
     "data": {
      "image/png": "[encoded data removed]",
      "text/plain": [
       "<Figure size 432x288 with 1 Axes>"
      ]
     },
     "metadata": {},
     "output_type": "display_data"
    }
   ],
   "source": [
    "results = {}\n",
    "results['Policy'] = ['MLOPT']*len(num_solves_mlopt) + ['CNN']*len(num_solves_cnn)\n",
    "results['Solves'] = np.hstack((np.log10(num_solves_mlopt), np.log10(num_solves_cnn)))\n",
    "results = pd.DataFrame(results)\n",
    "\n",
    "ax1 = sns.boxplot(x=results['Policy'], y=results['Solves'], palette=\"Set3\", flierprops=flierprops)                            \n",
    "ax1.set(xlabel=\"\", ylabel=\"log(QCQPs Solved)\")\n",
    "\n",
    "plt.tight_layout()\n",
    "\n",
    "figure = ax1.get_figure()\n",
    "# figure.savefig(\"loss.pdf\")"
   ]
  },
  {
   "cell_type": "code",
   "execution_count": 21,
   "metadata": {},
   "outputs": [
    {
     "data": {
      "image/png": "[encoded data removed]",
      "text/plain": [
       "<Figure size 432x288 with 1 Axes>"
      ]
     },
     "metadata": {},
     "output_type": "display_data"
    }
   ],
   "source": [
    "results = {}\n",
    "results['Policy'] = ['Gurobi']*len(total_time_ip) + ['MLOPT']*len(total_time_mlopt) + \\\n",
    "    ['CNN']*len(total_time_cnn)\n",
    "results['Time'] = np.hstack((np.log10(total_time_ip), \\\n",
    "    np.log10(total_time_mlopt), np.log10(total_time_cnn)))\n",
    "results = pd.DataFrame(results)\n",
    "\n",
    "ax1 = sns.boxplot(x=results['Policy'], y=results['Time'], palette=\"Set3\", flierprops=flierprops)\n",
    "ax1.set(xlabel=\"\", ylabel=\"log(Time) [s]\")\n",
    "\n",
    "plt.tight_layout()\n",
    "\n",
    "figure = ax1.get_figure()\n",
    "# figure.savefig(\"loss.pdf\")"
   ]
  },
  {
   "cell_type": "code",
   "execution_count": 22,
   "metadata": {},
   "outputs": [
    {
     "data": {
      "image/png": "[encoded data removed]",
      "text/plain": [
       "<Figure size 432x288 with 1 Axes>"
      ]
     },
     "metadata": {},
     "output_type": "display_data"
    }
   ],
   "source": [
    "results = {}\n",
    "results['Policy'] = ['Gurobi']*len(costs_ip) + \\\n",
    "    ['MLOPT']*len(cost_ratios_mlopt) + ['CNN']*len(cost_ratios_cnn)\n",
    "results['Costs'] = np.hstack((100*np.ones(len(costs_ip)), \\\n",
    "    100*cost_ratios_mlopt, 100*cost_ratios_cnn))\n",
    "results = pd.DataFrame(results)\n",
    "\n",
    "ax1 = sns.boxplot(x=results['Policy'], y=results['Costs'], palette=\"Set3\", flierprops=flierprops)\n",
    "ax1.set(xlabel=\"\", ylabel=\"Relative Cost [%]\")\n",
    "\n",
    "plt.tight_layout()\n",
    "# plt.ylim(0, int(math.ceil(np.max(np.maximum(costs_ip, costs_naive_mlopt, costs_mlopt)) / 10.0)) * 10)\n",
    "\n",
    "figure = ax1.get_figure()\n",
    "# figure.savefig(\"loss.pdf\")"
   ]
  },
  {
   "cell_type": "markdown",
   "metadata": {},
   "source": [
    "# Generalization"
   ]
  },
  {
   "cell_type": "code",
   "execution_count": 7,
   "metadata": {},
   "outputs": [],
   "source": [
    "def is_free_state(x0, obstacles, posmin, posmax):\n",
    "    \"\"\" Check if x0 is free state given list of obstacles\"\"\"\n",
    "    if any([x0[0] >= obstacle[0] and x0[0] <= obstacle[1] and \\\n",
    "             x0[1] >= obstacle[2] and x0[1] <= obstacle[3] \\\n",
    "             for obstacle in obstacles]):\n",
    "        return False\n",
    "    return True\n",
    "\n",
    "def find_obs(x0, posmin, posmax, n_obs, max_iter=50):\n",
    "    \"\"\" Given state x0, place obstacles between x0 and posmax\"\"\"\n",
    "    min_box_size, max_box_size = 0.25, 0.75\n",
    "    box_buffer = 0.025\n",
    "    border_size = 0.05\n",
    "    obs = []\n",
    "    itr = 0\n",
    "    while len(obs) < n_obs and itr < max_iter:\n",
    "        xmin = (posmax[0] - border_size - max_box_size)*np.random.rand() + border_size\n",
    "        xmin = np.max([xmin, x0[0]])\n",
    "        xmax = xmin + min_box_size  + (max_box_size - min_box_size)*np.random.rand()\n",
    "        ymin = (posmax[1] - border_size - max_box_size)*np.random.rand() + border_size\n",
    "        ymin = np.max([ymin, x0[1]])\n",
    "        ymax = ymin + min_box_size  + (max_box_size - min_box_size)*np.random.rand()\n",
    "        obstacle = np.array([xmin - box_buffer, xmax + box_buffer, \\\n",
    "                        ymin - box_buffer, ymax + box_buffer])\n",
    "        if is_free_state(x0, [obstacle], posmin, posmax):\n",
    "            obs.append(obstacle)\n",
    "        itr += 1\n",
    "\n",
    "    if len(obs) is not n_obs:\n",
    "        return []\n",
    "    return obs\n",
    "\n",
    "def findIC(obstacles, posmin, posmax, velmin, velmax):\n",
    "    \"\"\" Given list of obstacles, find IC that is collision free\"\"\"\n",
    "    IC_found = False\n",
    "    while not IC_found:\n",
    "        r0 = posmin + (posmax-posmin)*np.random.rand(2)\n",
    "        if not any([r0[0] >= obstacle[0] and r0[0] <= obstacle[1] and \\\n",
    "             r0[1] >= obstacle[2] and r0[1] <= obstacle[3] \\\n",
    "             for obstacle in obstacles]):\n",
    "            IC_found = True\n",
    "    x0 = np.hstack((r0, velmin + (velmax-velmin)*np.random.rand(2)))\n",
    "    return x0\n",
    "\n",
    "def random_obs(n_obs, posmin, posmax, border_size, \\\n",
    "              min_box_size, max_box_size):\n",
    "    \"\"\" Generate random list of obstacles in workspace \"\"\"\n",
    "    obstacles = []\n",
    "    for ii in range(n_obs):\n",
    "        xmin = (posmax[0] - border_size - max_box_size)*np.random.rand() + border_size\n",
    "        xmax = xmin + min_box_size  + (max_box_size - min_box_size)*np.random.rand()\n",
    "        ymin = (posmax[1] - border_size - max_box_size)*np.random.rand() + border_size\n",
    "        ymax = ymin + min_box_size  + (max_box_size - min_box_size)*np.random.rand()\n",
    "        obstacle = np.array([xmin - box_buffer, xmax + box_buffer, \\\n",
    "                            ymin - box_buffer, ymax + box_buffer])\n",
    "        obstacles.append(obstacle)\n",
    "    return obstacles"
   ]
  },
  {
   "cell_type": "code",
   "execution_count": 83,
   "metadata": {},
   "outputs": [],
   "source": [
    "N_OBS = 16\n",
    "mlopt_cnn.problem.n_obs = N_OBS\n",
    "mlopt_cnn.problem.init_mlopt_problem()\n",
    "mlopt_cnn.problem.init_bin_problem()"
   ]
  },
  {
   "cell_type": "code",
   "execution_count": 9,
   "metadata": {},
   "outputs": [],
   "source": [
    "# ii = np.random.randint(n_test)\n",
    "# prob_params = {}\n",
    "# for k in p_test.keys():\n",
    "#     prob_params[k] = p_test[k][ii]\n",
    "\n",
    "# obstacles = find_obs(prob_params['x0'], mlopt_cnn.problem.posmin, \\\n",
    "#     mlopt_cnn.problem.posmax, mlopt_cnn.problem.n_obs)"
   ]
  },
  {
   "cell_type": "code",
   "execution_count": 92,
   "metadata": {},
   "outputs": [
    {
     "name": "stdout",
     "output_type": "stream",
     "text": [
      "True\n"
     ]
    },
    {
     "data": {
      "text/plain": [
       "True"
      ]
     },
     "execution_count": 92,
     "metadata": {},
     "output_type": "execute_result"
    }
   ],
   "source": [
    "obstacles = random_obs(N_OBS, posmin, posmax, border_size, \\\n",
    "              min_box_size, max_box_size)\n",
    "x0 = findIC(obstacles, posmin, posmax, velmin, velmax)\n",
    "\n",
    "# x0 = np.hstack((posmin + (posmax-posmin)*np.random.rand(2), \\\n",
    "#                        velmin + (velmax-velmin)*np.random.rand(2)))\n",
    "# obstacles = find_obs(x0, posmin, \\\n",
    "#     posmax, N_OBS)\n",
    "\n",
    "prob_params['x0'] = x0\n",
    "prob_params['xg'] = p_test['xg'][0]\n",
    "prob_params['obstacles'] = np.reshape(np.concatenate(obstacles, axis=0), (mlopt_cnn.problem.n_obs,4)).T\n",
    "\n",
    "prob_success, true_cost, solve_time, optvals = mlopt_cnn.problem.solve_micp(prob_params)\n",
    "print(prob_success)\n",
    "\n",
    "prob_success, cost, total_time, n_evals, pinvals = mlopt_cnn.forward(prob_params)\n",
    "prob_success"
   ]
  },
  {
   "cell_type": "code",
   "execution_count": 94,
   "metadata": {},
   "outputs": [
    {
     "data": {
      "image/png": "[encoded data removed]",
      "text/plain": [
       "<Figure size 432x288 with 1 Axes>"
      ]
     },
     "metadata": {},
     "output_type": "display_data"
    },
    {
     "data": {
      "text/plain": [
       "<Figure size 432x288 with 0 Axes>"
      ]
     },
     "metadata": {},
     "output_type": "display_data"
    },
    {
     "data": {
      "text/plain": [
       "<Figure size 1440x720 with 0 Axes>"
      ]
     },
     "metadata": {},
     "output_type": "display_data"
    }
   ],
   "source": [
    "X_opt = optvals[0]\n",
    "X_pin = pinvals[0]\n",
    "\n",
    "plt.axes()\n",
    "for obstacle in obstacles:\n",
    "    rectangle = plt.Rectangle((obstacle[0], obstacle[2]), \\\n",
    "                              obstacle[1]-obstacle[0], obstacle[3]-obstacle[2], \\\n",
    "                             fc='red', ec='blue')\n",
    "    plt.gca().add_patch(rectangle)\n",
    "    plt.axis('scaled')\n",
    "\n",
    "circle = plt.Circle((prob_params['x0'][0],prob_params['x0'][1]), 0.04, fc='blue',ec=\"green\")\n",
    "plt.gca().add_patch(circle)\n",
    "\n",
    "plt.plot(X_opt[0,:], X_opt[1,:], linestyle='--', label='x*')\n",
    "plt.plot(X_pin[0,:], X_pin[1,:], linestyle='-', label='x')\n",
    "plt.legend(loc='best')\n",
    "\n",
    "ax = plt.gca()\n",
    "ax.margins(0)\n",
    "ax.set(xlim=(posmin[0],posmax[0]), ylim=(posmin[1],posmax[1]))\n",
    "fig = plt.figure()\n",
    "plt.show()\n",
    "\n",
    "plt.figure(figsize=(20,10))\n",
    "\n",
    "figure = ax.get_figure()\n",
    "# figure.savefig(\"fig_2b.png\")"
   ]
  },
  {
   "cell_type": "code",
   "execution_count": 11,
   "metadata": {},
   "outputs": [],
   "source": [
    "ft2m = 0.3048\n",
    "posmax = ft2m*np.array([12.,9.])\n",
    "max_box_size = 0.75\n",
    "min_box_size = 0.25\n",
    "box_buffer = 0.025\n",
    "border_size = 0.05\n",
    "\n",
    "posmin, posmax = mlopt_cnn.problem.posmin, mlopt_cnn.problem.posmax\n",
    "velmin, velmax = mlopt_cnn.problem.velmin, mlopt_cnn.problem.velmax"
   ]
  },
  {
   "cell_type": "code",
   "execution_count": null,
   "metadata": {},
   "outputs": [],
   "source": [
    "NPROBS = 500\n",
    "\n",
    "batch_percent_success = {}\n",
    "batch_true_cost = {}\n",
    "batch_cost = {}\n",
    "batch_cost_ratio = {}\n",
    "\n",
    "for N_OBS in range(8, 17):\n",
    "    n_solved = 0.\n",
    "    success_count = 0.\n",
    "\n",
    "    toggle_obstacles = True\n",
    "    toggle_count = 0\n",
    "\n",
    "    batch_true_cost[N_OBS] = []\n",
    "    batch_cost[N_OBS] = []\n",
    "    batch_cost_ratio[N_OBS] = []\n",
    "    \n",
    "    mlopt_cnn.problem.n_obs = N_OBS\n",
    "    mlopt_cnn.problem.init_mlopt_problem()\n",
    "    mlopt_cnn.problem.init_bin_problem()\n",
    "    \n",
    "    while n_solved < NPROBS:\n",
    "        if toggle_obstacles:\n",
    "            x0 = np.hstack((posmin + (posmax-posmin)*np.random.rand(2), \\\n",
    "                       velmin + (velmax-velmin)*np.random.rand(2)))\n",
    "            obstacles = find_obs(x0, posmin, \\\n",
    "                posmax, mlopt_cnn.problem.n_obs)\n",
    "            if len(obstacles) is not N_OBS:\n",
    "                continue\n",
    "        else:\n",
    "            obstacles = random_obs(N_OBS, posmin, posmax, border_size, \\\n",
    "              min_box_size, max_box_size)\n",
    "            x0 = findIC(obstacles, posmin, posmax, velmin, velmax)\n",
    "\n",
    "        obstacles = np.reshape(np.concatenate(obstacles, axis=0), (mlopt_cnn.problem.n_obs,4)).T\n",
    "\n",
    "        prob_params = {}\n",
    "        prob_params['x0'] = x0\n",
    "        prob_params['obstacles'] = obstacles\n",
    "        prob_params['xg'] = np.hstack((0.9*posmax, np.zeros(2)))\n",
    "\n",
    "        prob_success, true_cost, solve_time, optvals = mlopt_cnn.problem.solve_micp(prob_params)\n",
    "        if not prob_success:\n",
    "            continue\n",
    "\n",
    "        prob_success, cost, total_time, n_evals = mlopt_cnn.forward(prob_params)\n",
    "\n",
    "        if prob_success:\n",
    "            success_count += 1\n",
    "            batch_true_cost[N_OBS] += [true_cost]\n",
    "            batch_cost[N_OBS] += [cost]\n",
    "            batch_cost_ratio[N_OBS] += [cost / true_cost]\n",
    "            toggle_count += 1\n",
    "            if toggle_count % 5 == 0:\n",
    "                toggle_obstacles = not toggle_obstacles\n",
    "            \n",
    "        n_solved+=1\n",
    "\n",
    "    batch_percent_success[N_OBS] = success_count / NPROBS\n",
    "    print('{} for n_obs={}'.format(batch_percent_success[N_OBS], N_OBS))"
   ]
  },
  {
   "cell_type": "code",
   "execution_count": null,
   "metadata": {},
   "outputs": [],
   "source": [
    "batch_percent_success"
   ]
  },
  {
   "cell_type": "code",
   "execution_count": 30,
   "metadata": {},
   "outputs": [
    {
     "data": {
      "image/png": "[encoded data removed]",
      "text/plain": [
       "<Figure size 432x288 with 1 Axes>"
      ]
     },
     "metadata": {},
     "output_type": "display_data"
    }
   ],
   "source": [
    "results = {}\n",
    "for ii in range(8, 17):\n",
    "    results[str(ii)] = [batch_percent_success[ii]]\n",
    "results = pd.DataFrame(results)\n",
    "\n",
    "ax1 = sns.barplot(data=results, palette=\"Set3\", label='small')\n",
    "ax1.set(xlabel=\"Num. Obstacles\", ylabel=\"Percent Success\")\n",
    "\n",
    "plt.tight_layout()\n",
    "\n",
    "figure = ax1.get_figure()\n",
    "figure.savefig(\"generalization_percent_success.pdf\")"
   ]
  },
  {
   "cell_type": "code",
   "execution_count": 31,
   "metadata": {},
   "outputs": [
    {
     "data": {
      "image/png": "[encoded data removed]",
      "text/plain": [
       "<Figure size 432x288 with 1 Axes>"
      ]
     },
     "metadata": {},
     "output_type": "display_data"
    }
   ],
   "source": [
    "results = {}\n",
    "results['Policy'] = []\n",
    "results['Costs'] = []\n",
    "for ii in range(8, 17):\n",
    "    results['Policy'] += [str(ii)]*len(batch_cost_ratio[ii])\n",
    "    results['Costs']  += batch_cost_ratio[ii]\n",
    "results['Costs'] = 100.*np.array(results['Costs'])\n",
    "\n",
    "results = pd.DataFrame(results)\n",
    "\n",
    "ax1 = sns.boxplot(x=results['Policy'], y=results['Costs'], palette=\"Set3\", flierprops=flierprops)\n",
    "ax1.set(xlabel=\"\", ylabel=\"Relative Cost [%]\")\n",
    "\n",
    "plt.tight_layout()\n",
    "# plt.ylim(0, int(math.ceil(np.max(np.maximum(costs_ip, costs_naive_mlopt, costs_mlopt)) / 10.0)) * 10)\n",
    "\n",
    "figure = ax1.get_figure()\n",
    "figure.savefig(\"generalization_cost_ratios.pdf\")"
   ]
  }
 ],
 "metadata": {
  "kernelspec": {
   "display_name": "mlopt",
   "language": "python",
   "name": "mlopt"
  },
  "language_info": {
   "codemirror_mode": {
    "name": "ipython",
    "version": 3
   },
   "file_extension": ".py",
   "mimetype": "text/x-python",
   "name": "python",
   "nbconvert_exporter": "python",
   "pygments_lexer": "ipython3",
   "version": "3.6.3"
  }
 },
 "nbformat": 4,
 "nbformat_minor": 4
}
