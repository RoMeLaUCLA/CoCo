{
 "cells": [
  {
   "cell_type": "code",
   "execution_count": 1,
   "metadata": {},
   "outputs": [],
   "source": [
    "%load_ext autoreload\n",
    "%autoreload 2\n",
    "\n",
    "import matplotlib.pyplot as plt\n",
    "%matplotlib inline\n",
    "\n",
    "import torch\n",
    "from torch.autograd import Variable\n",
    "\n",
    "import numpy as np\n",
    "import cvxpy as cp\n",
    "\n",
    "from free_flyer.free_flyer import FreeFlyer\n",
    "import pickle, os"
   ]
  },
  {
   "cell_type": "code",
   "execution_count": 6,
   "metadata": {},
   "outputs": [],
   "source": [
    "#load train/test data\n",
    "prob = FreeFlyer() #use default config, pass different config file oth.\n",
    "config_fn = './free_flyer/config/default.p'\n",
    "\n",
    "config_file = open(config_fn,'rb')\n",
    "dataset_name, _, _ = pickle.load(config_file); config_file.close()\n",
    "\n",
    "relative_path = os.getcwd()\n",
    "dataset_fn = relative_path + '/free_flyer/data/' + dataset_name\n",
    "\n",
    "train_file = open(dataset_fn+'/train.p','rb')\n",
    "# p_train, x_train, u_train, y_train, c_train, times_train = pickle.load(train_file)\n",
    "train_data = pickle.load(train_file)\n",
    "train_file.close()\n",
    "x_train = train_data[1]\n",
    "y_train = train_data[3]\n",
    "\n",
    "test_file = open(dataset_fn+'/test.p','rb')\n",
    "# p_test, x_test, u_test, y_test, c_test, times_test = pickle.load(test_file)\n",
    "test_data = pickle.load(test_file)\n",
    "p_test, x_test, u_test, y_test, c_test, times_test = test_data\n",
    "test_file.close()\n",
    "\n",
    "n_test = x_test.shape[0]"
   ]
  },
  {
   "cell_type": "markdown",
   "metadata": {},
   "source": [
    "# task-specific MLOPT"
   ]
  },
  {
   "cell_type": "code",
   "execution_count": 20,
   "metadata": {},
   "outputs": [],
   "source": [
    "from solvers.mlopt_ff import MLOPT_FF"
   ]
  },
  {
   "cell_type": "code",
   "execution_count": 21,
   "metadata": {},
   "outputs": [
    {
     "name": "stdout",
     "output_type": "stream",
     "text": [
      "430\n"
     ]
    }
   ],
   "source": [
    "system = 'free_flyer'\n",
    "prob_features = ['x0', 'obstacles']\n",
    "mlopt_ts_obj = MLOPT_FF(system, prob, prob_features)\n",
    "\n",
    "n_features = 4 + 4*prob.n_obs + prob.n_obs\n",
    "mlopt_ts_obj.construct_strategies(n_features, train_data)\n",
    "print(mlopt_ts_obj.n_strategies)"
   ]
  },
  {
   "cell_type": "code",
   "execution_count": 22,
   "metadata": {},
   "outputs": [
    {
     "name": "stdout",
     "output_type": "stream",
     "text": [
      "Loading presaved classifier model from models/mloptff_free_flyer_20200702_1648.pt\n"
     ]
    },
    {
     "data": {
      "text/plain": [
       "FFNet(\n",
       "  (activation): ReLU()\n",
       "  (layers): ModuleList(\n",
       "    (0): Linear(in_features=44, out_features=128, bias=True)\n",
       "    (1): Linear(in_features=128, out_features=128, bias=True)\n",
       "    (2): Linear(in_features=128, out_features=128, bias=True)\n",
       "    (3): Linear(in_features=128, out_features=430, bias=True)\n",
       "  )\n",
       ")"
      ]
     },
     "execution_count": 22,
     "metadata": {},
     "output_type": "execute_result"
    }
   ],
   "source": [
    "mlopt_ts_obj.setup_network()\n",
    "\n",
    "fn_saved = 'models/mloptff_free_flyer_20200702_1648.pt'\n",
    "mlopt_ts_obj.load_network(fn_saved)\n",
    "\n",
    "mlopt_ts_obj.model"
   ]
  },
  {
   "cell_type": "code",
   "execution_count": null,
   "metadata": {},
   "outputs": [],
   "source": [
    "mlopt_ts_obj.training_params['TRAINING_ITERATIONS'] = 100\n",
    "mlopt_ts_obj.train(verbose=True)\n",
    "print(mlopt_ts_obj.model_fn)"
   ]
  },
  {
   "cell_type": "code",
   "execution_count": null,
   "metadata": {},
   "outputs": [
    {
     "name": "stdout",
     "output_type": "stream",
     "text": [
      "0 / 10000\n"
     ]
    }
   ],
   "source": [
    "n_succ = 0\n",
    "count = 0\n",
    "gurobi_mlopt_fail = 0\n",
    "\n",
    "costs_mlopt = []\n",
    "total_time_mlopt = []\n",
    "num_solves_mlopt = []\n",
    "\n",
    "cost_ratios_mlopt = []\n",
    "\n",
    "for ii in range(n_test):\n",
    "    if ii % 1000 == 0:\n",
    "        print('{} / {}'.format(ii,n_test))\n",
    "    prob_params = {}\n",
    "    for k in p_test.keys():\n",
    "        prob_params[k] = p_test[k][ii]\n",
    "\n",
    "    try:\n",
    "        prob_success, cost, total_time, n_evals = mlopt_ts_obj.forward(prob_params)\n",
    "        \n",
    "\n",
    "        count += 1\n",
    "        if prob_success:\n",
    "            n_succ += 1\n",
    "            costs_mlopt += [cost]\n",
    "            total_time_mlopt += [total_time]\n",
    "            num_solves_mlopt += [n_evals]\n",
    "\n",
    "            true_cost = c_test[ii]\n",
    "            cost_ratios_mlopt += [cost / true_cost]\n",
    "    except:\n",
    "        print('Solver failed at {}'.format(ii))\n",
    "        gurobi_mlopt_fail += 1\n",
    "        continue\n",
    "\n",
    "costs_mlopt = np.array(costs_mlopt)\n",
    "cost_ratios_mlopt = np.array(cost_ratios_mlopt)\n",
    "total_time_mlopt = np.array(total_time_mlopt)\n",
    "num_solves_mlopt = np.array(num_solves_mlopt, dtype=int)\n",
    "\n",
    "mlopt_percentage = 100 * float(n_succ) / float(count)\n",
    "mlopt_percentage"
   ]
  },
  {
   "cell_type": "markdown",
   "metadata": {},
   "source": [
    "# image encodings"
   ]
  },
  {
   "cell_type": "code",
   "execution_count": 4,
   "metadata": {},
   "outputs": [],
   "source": [
    "from solvers.mlopt_ff import MLOPT_FF"
   ]
  },
  {
   "cell_type": "code",
   "execution_count": 5,
   "metadata": {},
   "outputs": [
    {
     "name": "stdout",
     "output_type": "stream",
     "text": [
      "430\n"
     ]
    }
   ],
   "source": [
    "system = 'free_flyer'\n",
    "prob_features = ['x0', 'obstacles_map']\n",
    "\n",
    "mlopt_cnn = MLOPT_FF(system, prob, prob_features)\n",
    "\n",
    "n_features = 4\n",
    "mlopt_cnn.construct_strategies(n_features, train_data)\n",
    "print(mlopt_cnn.n_strategies)"
   ]
  },
  {
   "cell_type": "code",
   "execution_count": 7,
   "metadata": {},
   "outputs": [
    {
     "name": "stdout",
     "output_type": "stream",
     "text": [
      "Loading presaved classifier model from models/mloptff_free_flyer_20200706_0823.pt\n"
     ]
    },
    {
     "data": {
      "text/plain": [
       "CNNet(\n",
       "  (conv_activation): ReLU()\n",
       "  (ff_activation): ReLU()\n",
       "  (conv_layers): ModuleList(\n",
       "    (0): Conv2d(3, 16, kernel_size=(2, 2), stride=(2, 2))\n",
       "    (1): Conv2d(16, 16, kernel_size=(2, 2), stride=(2, 2))\n",
       "    (2): Conv2d(16, 16, kernel_size=(2, 2), stride=(2, 2))\n",
       "  )\n",
       "  (ff_layers): ModuleList(\n",
       "    (0): Linear(in_features=260, out_features=128, bias=True)\n",
       "    (1): Linear(in_features=128, out_features=128, bias=True)\n",
       "    (2): Linear(in_features=128, out_features=128, bias=True)\n",
       "    (3): Linear(in_features=128, out_features=430, bias=True)\n",
       "  )\n",
       ")"
      ]
     },
     "execution_count": 7,
     "metadata": {},
     "output_type": "execute_result"
    }
   ],
   "source": [
    "mlopt_cnn.setup_network()\n",
    "\n",
    "fn_saved = 'models/mloptff_free_flyer_20200706_0823.pt'\n",
    "mlopt_cnn.load_network(fn_saved)\n",
    "\n",
    "mlopt_cnn.model"
   ]
  },
  {
   "cell_type": "code",
   "execution_count": null,
   "metadata": {},
   "outputs": [],
   "source": [
    "mlopt_cnn.training_params['TRAINING_ITERATIONS'] = 500\n",
    "mlopt_cnn.train(train_data=train_data, verbose=False)"
   ]
  },
  {
   "cell_type": "code",
   "execution_count": 15,
   "metadata": {},
   "outputs": [
    {
     "name": "stdout",
     "output_type": "stream",
     "text": [
      "0.4542820344632411\n"
     ]
    }
   ],
   "source": [
    "prob_params = {}\n",
    "idx = np.random.randint(test_data[1].shape[0])\n",
    "for k in p_test.keys():\n",
    "    prob_params[k] = p_test[k][idx]\n",
    "\n",
    "prob_success, cost, total_time, n_evals = mlopt_cnn.forward(prob_params)\n",
    "\n",
    "if prob_success:\n",
    "    print(cost)\n",
    "else:\n",
    "    print('Failed')"
   ]
  },
  {
   "cell_type": "code",
   "execution_count": null,
   "metadata": {},
   "outputs": [],
   "source": [
    "n_succ = 0\n",
    "count = 0\n",
    "\n",
    "costs_cnn = []\n",
    "total_time_cnn = []\n",
    "num_solves_cnn = []\n",
    "\n",
    "cost_ratios_cnn = []\n",
    "costs_ip = []\n",
    "total_time_ip = []\n",
    "num_solves_ip = []\n",
    "\n",
    "for ii in range(n_test):\n",
    "    if ii % 1000 == 0:\n",
    "        print('{} / {}'.format(ii,n_test))\n",
    "    prob_params = {}\n",
    "    for k in p_test.keys():\n",
    "        prob_params[k] = p_test[k][ii]\n",
    "\n",
    "    try:\n",
    "        prob_success, cost, total_time, n_evals = mlopt_cnn.forward(prob_params)\n",
    "\n",
    "        count += 1\n",
    "        if prob_success:\n",
    "            n_succ += 1\n",
    "            costs_cnn += [cost]\n",
    "            total_time_cnn += [total_time]\n",
    "            num_solves_cnn += [n_evals]\n",
    "\n",
    "            true_cost = c_test[ii]\n",
    "            costs_ip += [true_cost]\n",
    "            total_time_ip += [times_test[ii]]\n",
    "\n",
    "            cost_ratios_cnn += [cost / true_cost]\n",
    "    except:\n",
    "        print('Solver failed at {}'.format(ii))\n",
    "        continue\n",
    "\n",
    "costs_cnn = np.array(costs_cnn)\n",
    "cost_ratios_cnn = np.array(cost_ratios_cnn)\n",
    "total_time_cnn = np.array(total_time_cnn)\n",
    "num_solves_cnn = np.array(num_solves_cnn, dtype=int)\n",
    "\n",
    "costs_ip = np.array(costs_ip)\n",
    "total_time_ip = np.array(total_time_ip)\n",
    "num_solves_ip = np.array(num_solves_ip, dtype=int)\n",
    "\n",
    "cnn_percentage = 100 * float(n_succ) / float(count)\n",
    "cnn_percentage"
   ]
  },
  {
   "cell_type": "markdown",
   "metadata": {},
   "source": [
    "# Results"
   ]
  },
  {
   "cell_type": "code",
   "execution_count": null,
   "metadata": {},
   "outputs": [],
   "source": [
    "import math\n",
    "import seaborn as sns\n",
    "sns.set(font_scale=1.5, font=\"serif\", style=\"whitegrid\")\n",
    "import pandas as pd\n",
    "\n",
    "flierprops = {'alpha':0.2}"
   ]
  },
  {
   "cell_type": "code",
   "execution_count": 25,
   "metadata": {},
   "outputs": [
    {
     "data": {
      "image/png": "[encoded data removed]",
      "text/plain": [
       "<Figure size 432x288 with 1 Axes>"
      ]
     },
     "metadata": {},
     "output_type": "display_data"
    }
   ],
   "source": [
    "results = {'Gurobi':[100.], 'MLOPT':[mlopt_percentage], 'CNN':[cnn_percentage]}\n",
    "results = pd.DataFrame(results)\n",
    "\n",
    "ax1 = sns.barplot(data=results, palette=\"Set3\", label='small')\n",
    "ax1.set(xlabel=\"\", ylabel=\"Percent Success\")\n",
    "\n",
    "plt.tight_layout()\n",
    "\n",
    "figure = ax1.get_figure()\n",
    "# # figure.savefig(\"loss.pdf\")"
   ]
  },
  {
   "cell_type": "code",
   "execution_count": 26,
   "metadata": {},
   "outputs": [
    {
     "data": {
      "image/png": "[encoded data removed]",
      "text/plain": [
       "<Figure size 432x288 with 1 Axes>"
      ]
     },
     "metadata": {},
     "output_type": "display_data"
    }
   ],
   "source": [
    "results = {}\n",
    "results['Policy'] = ['MLOPT']*len(num_solves_mlopt) + ['CNN']*len(num_solves_cnn)\n",
    "results['Solves'] = np.hstack((np.log10(num_solves_mlopt), np.log10(num_solves_cnn)))\n",
    "results = pd.DataFrame(results)\n",
    "\n",
    "ax1 = sns.boxplot(x=results['Policy'], y=results['Solves'], palette=\"Set3\", flierprops=flierprops)                            \n",
    "ax1.set(xlabel=\"\", ylabel=\"log(QCQPs Solved)\")\n",
    "\n",
    "plt.tight_layout()\n",
    "\n",
    "figure = ax1.get_figure()\n",
    "# figure.savefig(\"loss.pdf\")"
   ]
  },
  {
   "cell_type": "code",
   "execution_count": 28,
   "metadata": {},
   "outputs": [
    {
     "data": {
      "image/png": "[encoded data removed]",
      "text/plain": [
       "<Figure size 432x288 with 1 Axes>"
      ]
     },
     "metadata": {},
     "output_type": "display_data"
    }
   ],
   "source": [
    "results = {}\n",
    "results['Policy'] = ['Gurobi']*len(total_time_ip) + ['MLOPT']*len(total_time_mlopt) + \\\n",
    "    ['CNN']*len(total_time_cnn)\n",
    "results['Time'] = np.hstack((np.log10(total_time_ip), \\\n",
    "    np.log10(total_time_mlopt), np.log10(total_time_cnn)))\n",
    "results = pd.DataFrame(results)\n",
    "\n",
    "ax1 = sns.boxplot(x=results['Policy'], y=results['Time'], palette=\"Set3\", flierprops=flierprops)\n",
    "ax1.set(xlabel=\"\", ylabel=\"log(Time) [s]\")\n",
    "\n",
    "plt.tight_layout()\n",
    "\n",
    "figure = ax1.get_figure()\n",
    "# figure.savefig(\"loss.pdf\")"
   ]
  },
  {
   "cell_type": "code",
   "execution_count": 29,
   "metadata": {},
   "outputs": [
    {
     "data": {
      "image/png": "[encoded data removed]",
      "text/plain": [
       "<Figure size 432x288 with 1 Axes>"
      ]
     },
     "metadata": {},
     "output_type": "display_data"
    }
   ],
   "source": [
    "results = {}\n",
    "results['Policy'] = ['Gurobi']*len(costs_ip) + \\\n",
    "    ['MLOPT']*len(cost_ratios_mlopt) + ['CNN']*len(cost_ratios_cnn)\n",
    "results['Costs'] = np.hstack((100*np.ones(len(costs_ip)), \\\n",
    "    100*cost_ratios_mlopt, 100*cost_ratios_cnn))\n",
    "results = pd.DataFrame(results)\n",
    "\n",
    "ax1 = sns.boxplot(x=results['Policy'], y=results['Costs'], palette=\"Set3\", flierprops=flierprops)\n",
    "ax1.set(xlabel=\"\", ylabel=\"Relative Cost [%]\")\n",
    "\n",
    "plt.tight_layout()\n",
    "# plt.ylim(0, int(math.ceil(np.max(np.maximum(costs_ip, costs_naive_mlopt, costs_mlopt)) / 10.0)) * 10)\n",
    "\n",
    "figure = ax1.get_figure()\n",
    "# figure.savefig(\"loss.pdf\")"
   ]
  }
 ],
 "metadata": {
  "kernelspec": {
   "display_name": "mlopt",
   "language": "python",
   "name": "mlopt"
  },
  "language_info": {
   "codemirror_mode": {
    "name": "ipython",
    "version": 3
   },
   "file_extension": ".py",
   "mimetype": "text/x-python",
   "name": "python",
   "nbconvert_exporter": "python",
   "pygments_lexer": "ipython3",
   "version": "3.6.3"
  }
 },
 "nbformat": 4,
 "nbformat_minor": 4
}
