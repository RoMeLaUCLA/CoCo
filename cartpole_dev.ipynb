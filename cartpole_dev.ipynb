{
 "cells": [
  {
   "cell_type": "code",
   "execution_count": 92,
   "metadata": {},
   "outputs": [
    {
     "name": "stdout",
     "output_type": "stream",
     "text": [
      "The autoreload extension is already loaded. To reload it, use:\n",
      "  %reload_ext autoreload\n"
     ]
    }
   ],
   "source": [
    "%load_ext autoreload\n",
    "%autoreload 2\n",
    "\n",
    "import numpy as np\n",
    "from cartpole.cartpole import Cartpole\n",
    "import pickle, os"
   ]
  },
  {
   "cell_type": "code",
   "execution_count": 93,
   "metadata": {},
   "outputs": [],
   "source": [
    "#load train/test data\n",
    "cp = Cartpole() #use default config, pass different config file oth.\n",
    "config_fn = './cartpole/config/default.p'\n",
    "\n",
    "config_file = open(config_fn,'rb')\n",
    "dataset_name, _, _ = pickle.load(config_file); config_file.close()\n",
    "\n",
    "relative_path = os.getcwd()\n",
    "dataset_fn = relative_path + '/cartpole/data/' + dataset_name\n",
    "\n",
    "train_file = open(dataset_fn+'/train.p','rb')\n",
    "# p_train, x_train, u_train, y_train, c_train, times_train = pickle.load(train_file)\n",
    "train_data = pickle.load(train_file)\n",
    "train_file.close()\n",
    "\n",
    "test_file = open(dataset_fn+'/train.p','rb')\n",
    "# p_test, x_test, u_test, y_test, c_test, times_test = pickle.load(test_file)\n",
    "train_data = pickle.load(test_file)\n",
    "test_file.close()"
   ]
  },
  {
   "cell_type": "code",
   "execution_count": null,
   "metadata": {},
   "outputs": [],
   "source": [
    "#pre-processing\n",
    "\n",
    "#some function here to convert p_test into a feature matrix, X\n",
    "#some function here to convert y_test into strategy labels, y"
   ]
  },
  {
   "cell_type": "code",
   "execution_count": null,
   "metadata": {},
   "outputs": [],
   "source": [
    "#training setup\n",
    "\n",
    "#instantiate Solver object\n",
    "#if first time, setup hyperparams + write out to a config file\n",
    "#else, load hyperparams from config (e.g. network weights, lr, etc.)"
   ]
  },
  {
   "cell_type": "code",
   "execution_count": null,
   "metadata": {},
   "outputs": [],
   "source": [
    "#training step\n",
    "\n",
    "#either we can write a big loop here, or hide it in some Solver.train() method."
   ]
  },
  {
   "cell_type": "code",
   "execution_count": null,
   "metadata": {},
   "outputs": [],
   "source": [
    "#testing setp\n",
    "\n",
    "#either we can write a big loop here, or hide it in some Solver.test() method."
   ]
  },
  {
   "cell_type": "code",
   "execution_count": null,
   "metadata": {},
   "outputs": [],
   "source": [
    "## dummy cell to test basic Cartpole functionality\n",
    "\n",
    "xg = 0.1*np.random.randn(4); x0 = 0.1*np.random.randn(4) #dummy param values\n",
    "params = {'x0': x0,'xg' : xg} #put them into a dict\n",
    "strat = np.zeros((4,cp.N-1)).astype(int) #dummy strategy (all zeros)\n",
    "\n",
    "feas_bin, optval_bin, time_bin, assigns_bin = cp.solve_micp(params) #solve problem exactly\n",
    "feas, optval, time = cp.solve_pinned(params,strat)"
   ]
  },
  {
   "cell_type": "markdown",
   "metadata": {},
   "source": [
    "# test MLOPT solver"
   ]
  },
  {
   "cell_type": "code",
   "execution_count": 94,
   "metadata": {},
   "outputs": [
    {
     "name": "stdout",
     "output_type": "stream",
     "text": [
      "34\n"
     ]
    }
   ],
   "source": [
    "from solvers.mlopt import MLOPT\n",
    "\n",
    "system = 'cartpole'\n",
    "prob_features = ['x0', 'xg']\n",
    "mlopt_obj = MLOPT(system, cp, prob_features)\n",
    "\n",
    "n_features = 8\n",
    "mlopt_obj.construct_strategies(n_features, train_data)\n",
    "print(mlopt_obj.n_strategies)"
   ]
  },
  {
   "cell_type": "code",
   "execution_count": 95,
   "metadata": {},
   "outputs": [
    {
     "data": {
      "text/plain": [
       "FFNet(\n",
       "  (activation): ReLU()\n",
       "  (layers): ModuleList(\n",
       "    (0): Linear(in_features=8, out_features=32, bias=True)\n",
       "    (1): Linear(in_features=32, out_features=32, bias=True)\n",
       "    (2): Linear(in_features=32, out_features=32, bias=True)\n",
       "    (3): Linear(in_features=32, out_features=34, bias=True)\n",
       "  )\n",
       ")"
      ]
     },
     "execution_count": 95,
     "metadata": {},
     "output_type": "execute_result"
    }
   ],
   "source": [
    "mlopt_obj.setup_network()\n",
    "mlopt_obj.model"
   ]
  },
  {
   "cell_type": "code",
   "execution_count": 96,
   "metadata": {},
   "outputs": [
    {
     "name": "stdout",
     "output_type": "stream",
     "text": [
      "Done with epoch 0 in 0.0036318302154541016s\n",
      "Done with epoch 1 in 0.003412008285522461s\n",
      "Done with epoch 2 in 0.003379344940185547s\n",
      "Done with epoch 3 in 0.003952503204345703s\n",
      "Done with epoch 4 in 0.0033752918243408203s\n",
      "Done with epoch 5 in 0.0033588409423828125s\n",
      "Done with epoch 6 in 0.0033075809478759766s\n",
      "Saved model at /home/acauligi/cs_234/project/mlopt-micp/mlopt_cartpole_20200618_1541.pt\n",
      "Done training\n",
      "/home/acauligi/cs_234/project/mlopt-micp/mlopt_cartpole_20200618_1541.pt\n"
     ]
    }
   ],
   "source": [
    "mlopt_obj.training_params['TRAINING_ITERATIONS'] = 7\n",
    "mlopt_obj.train()\n",
    "print(mlopt_obj.model_fn)"
   ]
  },
  {
   "cell_type": "code",
   "execution_count": 97,
   "metadata": {},
   "outputs": [
    {
     "data": {
      "text/plain": [
       "{'x0': array([ 0.09882732, -0.23948447, -0.7159997 ,  0.44798102]),\n",
       " 'xg': array([0., 0., 0., 0.])}"
      ]
     },
     "execution_count": 97,
     "metadata": {},
     "output_type": "execute_result"
    }
   ],
   "source": [
    "prob_params = {}\n",
    "idx = 1\n",
    "\n",
    "p_test = train_data[0]\n",
    "for k in p_test.keys():\n",
    "    prob_params[k] = p_test[k][idx]\n",
    "prob_params"
   ]
  },
  {
   "cell_type": "code",
   "execution_count": 98,
   "metadata": {},
   "outputs": [
    {
     "name": "stdout",
     "output_type": "stream",
     "text": [
      "Failed\n"
     ]
    }
   ],
   "source": [
    "prob_success, cost, total_time, n_evals = mlopt_obj.forward(prob_params)\n",
    "\n",
    "if prob_success:\n",
    "    print(cost)\n",
    "else:\n",
    "    print('Failed')"
   ]
  },
  {
   "cell_type": "code",
   "execution_count": 99,
   "metadata": {},
   "outputs": [
    {
     "name": "stdout",
     "output_type": "stream",
     "text": [
      "96.66295784630502\n"
     ]
    }
   ],
   "source": [
    "prob_success, true_cost, solve_time, optvals = mlopt_obj.problem.solve_micp(prob_params)\n",
    "\n",
    "print(true_cost)"
   ]
  },
  {
   "cell_type": "markdown",
   "metadata": {},
   "source": [
    "# test Regression solver"
   ]
  },
  {
   "cell_type": "code",
   "execution_count": 118,
   "metadata": {},
   "outputs": [
    {
     "name": "stdout",
     "output_type": "stream",
     "text": [
      "34\n"
     ]
    }
   ],
   "source": [
    "from solvers.regression import Regression\n",
    "\n",
    "system = 'cartpole'\n",
    "prob_features = ['x0', 'xg']\n",
    "reg_obj = Regression(system, cp, prob_features)\n",
    "\n",
    "n_features = 8\n",
    "reg_obj.construct_strategies(n_features, train_data)\n",
    "print(reg_obj.n_strategies)"
   ]
  },
  {
   "cell_type": "code",
   "execution_count": 119,
   "metadata": {},
   "outputs": [
    {
     "data": {
      "text/plain": [
       "FFNet(\n",
       "  (activation): ReLU()\n",
       "  (layers): ModuleList(\n",
       "    (0): Linear(in_features=8, out_features=32, bias=True)\n",
       "    (1): Linear(in_features=32, out_features=32, bias=True)\n",
       "    (2): Linear(in_features=32, out_features=32, bias=True)\n",
       "    (3): Linear(in_features=32, out_features=40, bias=True)\n",
       "  )\n",
       ")"
      ]
     },
     "execution_count": 119,
     "metadata": {},
     "output_type": "execute_result"
    }
   ],
   "source": [
    "reg_obj.setup_network()\n",
    "reg_obj.model"
   ]
  },
  {
   "cell_type": "code",
   "execution_count": 120,
   "metadata": {},
   "outputs": [
    {
     "name": "stdout",
     "output_type": "stream",
     "text": [
      "Done with epoch 0 in 0.002160787582397461s\n",
      "Done with epoch 1 in 0.0017833709716796875s\n",
      "Done with epoch 2 in 0.0017423629760742188s\n",
      "Done with epoch 3 in 0.0017457008361816406s\n",
      "Done with epoch 4 in 0.0017313957214355469s\n",
      "Done with epoch 5 in 0.00174713134765625s\n",
      "Done with epoch 6 in 0.0018074512481689453s\n",
      "Done with epoch 7 in 0.001741647720336914s\n",
      "Done with epoch 8 in 0.001970529556274414s\n",
      "Done with epoch 9 in 0.0017445087432861328s\n",
      "Saved model at /home/acauligi/cs_234/project/mlopt-micp/mlopt_cartpole_20200618_1549.pt\n",
      "Done training\n",
      "/home/acauligi/cs_234/project/mlopt-micp/mlopt_cartpole_20200618_1549.pt\n"
     ]
    }
   ],
   "source": [
    "reg_obj.training_params['TRAINING_ITERATIONS'] = 10\n",
    "reg_obj.training_params['CHECKPOINT_AFTER'] = 200000\n",
    "reg_obj.train()\n",
    "print(reg_obj.model_fn)"
   ]
  },
  {
   "cell_type": "code",
   "execution_count": 121,
   "metadata": {},
   "outputs": [
    {
     "data": {
      "text/plain": [
       "{'x0': array([ 0.09882732, -0.23948447, -0.7159997 ,  0.44798102]),\n",
       " 'xg': array([0., 0., 0., 0.])}"
      ]
     },
     "execution_count": 121,
     "metadata": {},
     "output_type": "execute_result"
    }
   ],
   "source": [
    "prob_params = {}\n",
    "idx = 1\n",
    "\n",
    "p_test = train_data[0]\n",
    "for k in p_test.keys():\n",
    "    prob_params[k] = p_test[k][idx]\n",
    "prob_params"
   ]
  },
  {
   "cell_type": "code",
   "execution_count": 122,
   "metadata": {},
   "outputs": [
    {
     "name": "stdout",
     "output_type": "stream",
     "text": [
      "Failed\n"
     ]
    }
   ],
   "source": [
    "prob_success, cost, total_time = reg_obj.forward(prob_params)\n",
    "\n",
    "if prob_success:\n",
    "    print(cost)\n",
    "else:\n",
    "    print('Failed')"
   ]
  }
 ],
 "metadata": {
  "kernelspec": {
   "display_name": "mlopt",
   "language": "python",
   "name": "mlopt"
  },
  "language_info": {
   "codemirror_mode": {
    "name": "ipython",
    "version": 3
   },
   "file_extension": ".py",
   "mimetype": "text/x-python",
   "name": "python",
   "nbconvert_exporter": "python",
   "pygments_lexer": "ipython3",
   "version": "3.6.3"
  }
 },
 "nbformat": 4,
 "nbformat_minor": 4
}
