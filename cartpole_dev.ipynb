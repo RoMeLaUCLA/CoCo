{
 "cells": [
  {
   "cell_type": "code",
   "execution_count": 1,
   "metadata": {},
   "outputs": [],
   "source": [
    "%load_ext autoreload\n",
    "%autoreload 2\n",
    "\n",
    "import numpy as np\n",
    "import cvxpy as cp\n",
    "\n",
    "from cartpole.cartpole import Cartpole\n",
    "import pickle, os"
   ]
  },
  {
   "cell_type": "code",
   "execution_count": 2,
   "metadata": {},
   "outputs": [],
   "source": [
    "#load train/test data\n",
    "prob = Cartpole() #use default config, pass different config file oth.\n",
    "config_fn = './cartpole/config/default.p'\n",
    "\n",
    "config_file = open(config_fn,'rb')\n",
    "dataset_name, _, _ = pickle.load(config_file); config_file.close()\n",
    "\n",
    "relative_path = os.getcwd()\n",
    "dataset_fn = relative_path + '/cartpole/data/' + dataset_name\n",
    "\n",
    "train_file = open(dataset_fn+'/train.p','rb')\n",
    "# p_train, x_train, u_train, y_train, c_train, times_train = pickle.load(train_file)\n",
    "train_data = pickle.load(train_file)\n",
    "train_file.close()\n",
    "\n",
    "test_file = open(dataset_fn+'/test.p','rb')\n",
    "# p_test, x_test, u_test, y_test, c_test, times_test = pickle.load(test_file)\n",
    "test_data = pickle.load(test_file)\n",
    "test_file.close()"
   ]
  },
  {
   "cell_type": "code",
   "execution_count": null,
   "metadata": {},
   "outputs": [],
   "source": [
    "#pre-processing\n",
    "\n",
    "#some function here to convert p_test into a feature matrix, X\n",
    "#some function here to convert y_test into strategy labels, y"
   ]
  },
  {
   "cell_type": "code",
   "execution_count": null,
   "metadata": {},
   "outputs": [],
   "source": [
    "#training setup\n",
    "\n",
    "#instantiate Solver object\n",
    "#if first time, setup hyperparams + write out to a config file\n",
    "#else, load hyperparams from config (e.g. network weights, lr, etc.)"
   ]
  },
  {
   "cell_type": "code",
   "execution_count": null,
   "metadata": {},
   "outputs": [],
   "source": [
    "#training step\n",
    "\n",
    "#either we can write a big loop here, or hide it in some Solver.train() method."
   ]
  },
  {
   "cell_type": "code",
   "execution_count": null,
   "metadata": {},
   "outputs": [],
   "source": [
    "#testing setp\n",
    "\n",
    "#either we can write a big loop here, or hide it in some Solver.test() method."
   ]
  },
  {
   "cell_type": "code",
   "execution_count": null,
   "metadata": {},
   "outputs": [],
   "source": [
    "## dummy cell to test basic Cartpole functionality\n",
    "\n",
    "xg = 0.1*np.random.randn(4); x0 = 0.1*np.random.randn(4) #dummy param values\n",
    "params = {'x0': x0,'xg' : xg} #put them into a dict\n",
    "strat = np.zeros((4,prob.N-1)).astype(int) #dummy strategy (all zeros)\n",
    "\n",
    "feas_bin, optval_bin, time_bin, assigns_bin = prob.solve_micp(params) #solve problem exactly\n",
    "feas, optval, time = prob.solve_pinned(params,strat)"
   ]
  },
  {
   "cell_type": "markdown",
   "metadata": {},
   "source": [
    "# test MLOPT solver"
   ]
  },
  {
   "cell_type": "code",
   "execution_count": 3,
   "metadata": {},
   "outputs": [
    {
     "name": "stdout",
     "output_type": "stream",
     "text": [
      "589\n"
     ]
    }
   ],
   "source": [
    "from solvers.mlopt import MLOPT\n",
    "\n",
    "system = 'cartpole'\n",
    "prob_features = ['x0', 'xg']\n",
    "mlopt_obj = MLOPT(system, prob, prob_features)\n",
    "\n",
    "n_features = 8\n",
    "mlopt_obj.construct_strategies(n_features, train_data)\n",
    "print(mlopt_obj.n_strategies)"
   ]
  },
  {
   "cell_type": "code",
   "execution_count": 22,
   "metadata": {},
   "outputs": [
    {
     "name": "stdout",
     "output_type": "stream",
     "text": [
      "Loading presaved classifier model from mlopt_cartpole_20200622_1815.pt\n"
     ]
    },
    {
     "data": {
      "text/plain": [
       "FFNet(\n",
       "  (activation): ReLU()\n",
       "  (layers): ModuleList(\n",
       "    (0): Linear(in_features=8, out_features=32, bias=True)\n",
       "    (1): Linear(in_features=32, out_features=32, bias=True)\n",
       "    (2): Linear(in_features=32, out_features=32, bias=True)\n",
       "    (3): Linear(in_features=32, out_features=589, bias=True)\n",
       "  )\n",
       ")"
      ]
     },
     "execution_count": 22,
     "metadata": {},
     "output_type": "execute_result"
    }
   ],
   "source": [
    "mlopt_obj.setup_network()\n",
    "\n",
    "fn_saved = 'mlopt_cartpole_20200622_1815.pt'\n",
    "mlopt_obj.load_network(fn_saved)\n",
    "\n",
    "mlopt_obj.model"
   ]
  },
  {
   "cell_type": "code",
   "execution_count": null,
   "metadata": {},
   "outputs": [],
   "source": [
    "mlopt_obj.training_params['TRAINING_ITERATIONS'] = 1000\n",
    "mlopt_obj.train()\n",
    "print(mlopt_obj.model_fn)"
   ]
  },
  {
   "cell_type": "code",
   "execution_count": 24,
   "metadata": {},
   "outputs": [
    {
     "name": "stdout",
     "output_type": "stream",
     "text": [
      "1.0\n"
     ]
    }
   ],
   "source": [
    "n_succ = 0\n",
    "count = 0\n",
    "\n",
    "for ii in range(1000):\n",
    "    prob_params = {}\n",
    "    idx = np.random.randint(test_data[1].shape[0])\n",
    "\n",
    "    p_test = test_data[0]\n",
    "    for k in p_test.keys():\n",
    "        prob_params[k] = p_test[k][idx]\n",
    "    prob_success, cost, total_time, n_evals = mlopt_obj.forward(prob_params)\n",
    "\n",
    "    count += 1\n",
    "    if prob_success:\n",
    "        n_succ += 1\n",
    "\n",
    "print(float(n_succ)/float(count))"
   ]
  },
  {
   "cell_type": "code",
   "execution_count": 25,
   "metadata": {},
   "outputs": [
    {
     "data": {
      "text/plain": [
       "{'x0': array([ 0.46468615, -0.27337426, -0.85975189,  0.40075829]),\n",
       " 'xg': array([0., 0., 0., 0.])}"
      ]
     },
     "execution_count": 25,
     "metadata": {},
     "output_type": "execute_result"
    }
   ],
   "source": [
    "prob_params = {}\n",
    "idx = np.random.randint(test_data[1].shape[0])\n",
    "\n",
    "p_test = test_data[0]\n",
    "for k in p_test.keys():\n",
    "    prob_params[k] = p_test[k][idx]\n",
    "prob_params"
   ]
  },
  {
   "cell_type": "code",
   "execution_count": 27,
   "metadata": {},
   "outputs": [
    {
     "name": "stdout",
     "output_type": "stream",
     "text": [
      "144.26570218216074\n"
     ]
    }
   ],
   "source": [
    "prob_success, cost, total_time, n_evals = mlopt_obj.forward(prob_params)\n",
    "\n",
    "if prob_success:\n",
    "    print(cost)\n",
    "else:\n",
    "    print('Failed')"
   ]
  },
  {
   "cell_type": "code",
   "execution_count": 28,
   "metadata": {},
   "outputs": [
    {
     "name": "stdout",
     "output_type": "stream",
     "text": [
      "Academic license - for non-commercial use only\n"
     ]
    },
    {
     "data": {
      "text/plain": [
       "144.2656965961387"
      ]
     },
     "execution_count": 28,
     "metadata": {},
     "output_type": "execute_result"
    }
   ],
   "source": [
    "prob_success, true_cost, solve_time, optvals = mlopt_obj.problem.solve_micp(prob_params)\n",
    "\n",
    "true_cost"
   ]
  },
  {
   "cell_type": "code",
   "execution_count": 29,
   "metadata": {},
   "outputs": [
    {
     "name": "stdout",
     "output_type": "stream",
     "text": [
      "1.0\n"
     ]
    }
   ],
   "source": [
    "n_succ = 0\n",
    "count = 0\n",
    "\n",
    "for ii in range(100):\n",
    "    prob_params = {}\n",
    "    idx = np.random.randint(test_data[1].shape[0])\n",
    "\n",
    "    p_test = test_data[0]\n",
    "    for k in p_test.keys():\n",
    "        prob_params[k] = p_test[k][idx]\n",
    "    prob_success, cost, total_time, n_evals = mlopt_obj.forward(prob_params)\n",
    "\n",
    "    count += 1\n",
    "    if prob_success:\n",
    "        n_succ += 1\n",
    "\n",
    "print(float(n_succ)/float(count))"
   ]
  },
  {
   "cell_type": "markdown",
   "metadata": {},
   "source": [
    "# test Regression solver"
   ]
  },
  {
   "cell_type": "code",
   "execution_count": 30,
   "metadata": {},
   "outputs": [
    {
     "name": "stdout",
     "output_type": "stream",
     "text": [
      "589\n"
     ]
    }
   ],
   "source": [
    "from solvers.regression import Regression\n",
    "\n",
    "system = 'cartpole'\n",
    "prob_features = ['x0', 'xg']\n",
    "reg_obj = Regression(system, prob, prob_features)\n",
    "\n",
    "n_features = 8\n",
    "reg_obj.construct_strategies(n_features, train_data)\n",
    "print(reg_obj.n_strategies)"
   ]
  },
  {
   "cell_type": "code",
   "execution_count": 50,
   "metadata": {},
   "outputs": [
    {
     "name": "stdout",
     "output_type": "stream",
     "text": [
      "Loading presaved regression model from regression_cartpole_20200623_1034.pt\n"
     ]
    },
    {
     "data": {
      "text/plain": [
       "FFNet(\n",
       "  (activation): ReLU()\n",
       "  (layers): ModuleList(\n",
       "    (0): Linear(in_features=8, out_features=32, bias=True)\n",
       "    (1): Linear(in_features=32, out_features=32, bias=True)\n",
       "    (2): Linear(in_features=32, out_features=32, bias=True)\n",
       "    (3): Linear(in_features=32, out_features=40, bias=True)\n",
       "  )\n",
       ")"
      ]
     },
     "execution_count": 50,
     "metadata": {},
     "output_type": "execute_result"
    }
   ],
   "source": [
    "reg_obj.setup_network()\n",
    "\n",
    "fn_saved = 'regression_cartpole_20200623_1034.pt'\n",
    "reg_obj.load_network(fn_saved)\n",
    "\n",
    "reg_obj.model"
   ]
  },
  {
   "cell_type": "code",
   "execution_count": 32,
   "metadata": {
    "collapsed": true,
    "jupyter": {
     "outputs_hidden": true
    }
   },
   "outputs": [
    {
     "name": "stdout",
     "output_type": "stream",
     "text": [
      "Done with epoch 0 in 1.2510039806365967s\n",
      "Done with epoch 1 in 1.2380177974700928s\n",
      "Done with epoch 2 in 1.2514522075653076s\n",
      "Done with epoch 3 in 1.2273695468902588s\n",
      "Done with epoch 4 in 1.2063512802124023s\n",
      "Done with epoch 5 in 1.207263469696045s\n",
      "Done with epoch 6 in 1.2216131687164307s\n",
      "Done with epoch 7 in 1.247023105621338s\n",
      "Done with epoch 8 in 1.2208976745605469s\n",
      "Done with epoch 9 in 1.2389678955078125s\n",
      "Done with epoch 10 in 1.2558889389038086s\n",
      "Done with epoch 11 in 1.23710036277771s\n",
      "Done with epoch 12 in 1.2368810176849365s\n",
      "Done with epoch 13 in 1.2324607372283936s\n",
      "Done with epoch 14 in 1.2310373783111572s\n",
      "Done with epoch 15 in 1.2352304458618164s\n",
      "Done with epoch 16 in 1.2348086833953857s\n",
      "Done with epoch 17 in 1.2499427795410156s\n",
      "Done with epoch 18 in 1.2511909008026123s\n",
      "Done with epoch 19 in 1.2376909255981445s\n",
      "Done with epoch 20 in 1.241004467010498s\n",
      "Done with epoch 21 in 1.235971450805664s\n",
      "Done with epoch 22 in 1.2255423069000244s\n",
      "Done with epoch 23 in 1.226513147354126s\n",
      "Done with epoch 24 in 1.225555658340454s\n",
      "Done with epoch 25 in 1.214301586151123s\n",
      "Done with epoch 26 in 1.228489637374878s\n",
      "Done with epoch 27 in 1.2404720783233643s\n",
      "Done with epoch 28 in 1.2357027530670166s\n",
      "Done with epoch 29 in 1.2096891403198242s\n",
      "Done with epoch 30 in 1.208853006362915s\n",
      "Done with epoch 31 in 1.231999397277832s\n",
      "Done with epoch 32 in 1.2300095558166504s\n",
      "Done with epoch 33 in 1.2348406314849854s\n",
      "Done with epoch 34 in 1.2313745021820068s\n",
      "Done with epoch 35 in 1.2427294254302979s\n",
      "Done with epoch 36 in 1.2453486919403076s\n",
      "Done with epoch 37 in 1.2598986625671387s\n",
      "Done with epoch 38 in 1.2580375671386719s\n",
      "Done with epoch 39 in 1.2384023666381836s\n",
      "Done with epoch 40 in 1.2452197074890137s\n",
      "Done with epoch 41 in 1.2543871402740479s\n",
      "Saved model at /home/acauligi/cs_234/project/mlopt-micp/mlopt_cartpole_20200623_1034.pt\n",
      "Done with epoch 42 in 1.2452363967895508s\n",
      "Done with epoch 43 in 1.241105556488037s\n",
      "Done with epoch 44 in 1.2260892391204834s\n",
      "Done with epoch 45 in 1.2329044342041016s\n",
      "Done with epoch 46 in 1.2262072563171387s\n",
      "Done with epoch 47 in 1.2332372665405273s\n",
      "Done with epoch 48 in 1.2445054054260254s\n",
      "Done with epoch 49 in 1.2429749965667725s\n",
      "Done with epoch 50 in 1.2344355583190918s\n",
      "Done with epoch 51 in 1.2452049255371094s\n",
      "Done with epoch 52 in 1.2392678260803223s\n",
      "Done with epoch 53 in 1.2530272006988525s\n",
      "Done with epoch 54 in 1.2534816265106201s\n",
      "Done with epoch 55 in 1.2479946613311768s\n",
      "Done with epoch 56 in 1.2506260871887207s\n",
      "Done with epoch 57 in 1.2381067276000977s\n",
      "Done with epoch 58 in 1.2678136825561523s\n",
      "Done with epoch 59 in 1.2388441562652588s\n",
      "Done with epoch 60 in 1.2554097175598145s\n",
      "Done with epoch 61 in 1.230710506439209s\n",
      "Done with epoch 62 in 1.251295566558838s\n",
      "Done with epoch 63 in 1.235776424407959s\n",
      "Done with epoch 64 in 1.2380802631378174s\n",
      "Done with epoch 65 in 1.243088722229004s\n",
      "Done with epoch 66 in 1.2340385913848877s\n",
      "Done with epoch 67 in 1.2362957000732422s\n",
      "Done with epoch 68 in 1.2399611473083496s\n",
      "Done with epoch 69 in 1.236626386642456s\n",
      "Done with epoch 70 in 1.243720293045044s\n",
      "Done with epoch 71 in 1.2457988262176514s\n",
      "Done with epoch 72 in 1.245443344116211s\n",
      "Done with epoch 73 in 1.248502492904663s\n",
      "Done with epoch 74 in 1.233496904373169s\n",
      "Done with epoch 75 in 1.2408406734466553s\n",
      "Done with epoch 76 in 1.2354824542999268s\n",
      "Done with epoch 77 in 1.2410504817962646s\n",
      "Done with epoch 78 in 1.2507586479187012s\n",
      "Done with epoch 79 in 1.2094640731811523s\n",
      "Done with epoch 80 in 1.2219266891479492s\n",
      "Done with epoch 81 in 1.2352170944213867s\n",
      "Done with epoch 82 in 1.235475778579712s\n",
      "Done with epoch 83 in 1.2463607788085938s\n",
      "Done with epoch 84 in 1.237971544265747s\n",
      "Saved model at /home/acauligi/cs_234/project/mlopt-micp/mlopt_cartpole_20200623_1034.pt\n",
      "Done with epoch 85 in 1.2490818500518799s\n",
      "Done with epoch 86 in 1.2416467666625977s\n",
      "Done with epoch 87 in 1.2538702487945557s\n",
      "Done with epoch 88 in 1.2383184432983398s\n",
      "Done with epoch 89 in 1.2084996700286865s\n",
      "Done with epoch 90 in 1.2150368690490723s\n",
      "Done with epoch 91 in 1.21315598487854s\n",
      "Done with epoch 92 in 1.219496488571167s\n",
      "Done with epoch 93 in 1.2484934329986572s\n",
      "Done with epoch 94 in 1.220728874206543s\n",
      "Done with epoch 95 in 1.2259516716003418s\n",
      "Done with epoch 96 in 1.2196462154388428s\n",
      "Done with epoch 97 in 1.2220001220703125s\n",
      "Done with epoch 98 in 1.21946120262146s\n",
      "Done with epoch 99 in 1.222557783126831s\n",
      "Done with epoch 100 in 1.2163169384002686s\n",
      "Done with epoch 101 in 1.224151849746704s\n",
      "Done with epoch 102 in 1.2119922637939453s\n",
      "Done with epoch 103 in 1.2102105617523193s\n",
      "Done with epoch 104 in 1.219851016998291s\n",
      "Done with epoch 105 in 1.2136821746826172s\n",
      "Done with epoch 106 in 1.2138724327087402s\n",
      "Done with epoch 107 in 1.2398955821990967s\n",
      "Done with epoch 108 in 1.231487512588501s\n",
      "Done with epoch 109 in 1.2332234382629395s\n",
      "Done with epoch 110 in 1.271409511566162s\n",
      "Done with epoch 111 in 1.2624108791351318s\n",
      "Done with epoch 112 in 1.2648820877075195s\n",
      "Done with epoch 113 in 1.2546570301055908s\n",
      "Done with epoch 114 in 1.2525205612182617s\n",
      "Done with epoch 115 in 1.238417387008667s\n",
      "Done with epoch 116 in 1.2128002643585205s\n",
      "Done with epoch 117 in 1.233213186264038s\n",
      "Done with epoch 118 in 1.235713005065918s\n",
      "Done with epoch 119 in 1.2379302978515625s\n",
      "Done with epoch 120 in 1.231182336807251s\n",
      "Done with epoch 121 in 1.2304587364196777s\n",
      "Done with epoch 122 in 1.229252815246582s\n",
      "Done with epoch 123 in 1.2009925842285156s\n",
      "Done with epoch 124 in 1.2169609069824219s\n",
      "Done with epoch 125 in 1.229689121246338s\n",
      "Done with epoch 126 in 1.2293109893798828s\n",
      "Saved model at /home/acauligi/cs_234/project/mlopt-micp/mlopt_cartpole_20200623_1034.pt\n",
      "Done with epoch 127 in 1.228569507598877s\n",
      "Done with epoch 128 in 1.2234094142913818s\n",
      "Done with epoch 129 in 1.2250456809997559s\n",
      "Done with epoch 130 in 1.226531982421875s\n",
      "Done with epoch 131 in 1.2167589664459229s\n",
      "Done with epoch 132 in 1.2297461032867432s\n",
      "Done with epoch 133 in 1.2308349609375s\n",
      "Done with epoch 134 in 1.2309346199035645s\n",
      "Done with epoch 135 in 1.2437710762023926s\n",
      "Done with epoch 136 in 1.2430269718170166s\n",
      "Done with epoch 137 in 1.2320160865783691s\n",
      "Done with epoch 138 in 1.229604721069336s\n",
      "Done with epoch 139 in 1.2322382926940918s\n",
      "Done with epoch 140 in 1.2334959506988525s\n",
      "Done with epoch 141 in 1.2292683124542236s\n",
      "Done with epoch 142 in 1.2244303226470947s\n",
      "Done with epoch 143 in 1.2305779457092285s\n",
      "Done with epoch 144 in 1.2509968280792236s\n",
      "Done with epoch 145 in 1.2338464260101318s\n",
      "Done with epoch 146 in 1.2347311973571777s\n",
      "Done with epoch 147 in 1.2401502132415771s\n",
      "Done with epoch 148 in 1.2377240657806396s\n",
      "Done with epoch 149 in 1.23581862449646s\n",
      "Done with epoch 150 in 1.2389509677886963s\n",
      "Done with epoch 151 in 1.2354621887207031s\n",
      "Done with epoch 152 in 1.238293170928955s\n",
      "Done with epoch 153 in 1.2377979755401611s\n",
      "Done with epoch 154 in 1.242896318435669s\n",
      "Done with epoch 155 in 1.2430939674377441s\n",
      "Done with epoch 156 in 1.22784423828125s\n",
      "Done with epoch 157 in 1.2280313968658447s\n",
      "Done with epoch 158 in 1.2326219081878662s\n",
      "Done with epoch 159 in 1.2516236305236816s\n",
      "Done with epoch 160 in 1.2538728713989258s\n",
      "Done with epoch 161 in 1.2405543327331543s\n",
      "Done with epoch 162 in 1.2344560623168945s\n",
      "Done with epoch 163 in 1.2357394695281982s\n",
      "Done with epoch 164 in 1.2403557300567627s\n",
      "Done with epoch 165 in 1.2596721649169922s\n",
      "Done with epoch 166 in 1.2307028770446777s\n",
      "Done with epoch 167 in 1.2268316745758057s\n",
      "Done with epoch 168 in 1.2362213134765625s\n",
      "Done with epoch 169 in 1.2295911312103271s\n",
      "Saved model at /home/acauligi/cs_234/project/mlopt-micp/mlopt_cartpole_20200623_1034.pt\n",
      "Done with epoch 170 in 1.2292487621307373s\n",
      "Done with epoch 171 in 1.2295641899108887s\n",
      "Done with epoch 172 in 1.2266476154327393s\n",
      "Done with epoch 173 in 1.2281999588012695s\n",
      "Done with epoch 174 in 1.2353670597076416s\n",
      "Done with epoch 175 in 1.241590976715088s\n",
      "Done with epoch 176 in 1.2394921779632568s\n",
      "Done with epoch 177 in 1.2468512058258057s\n",
      "Done with epoch 178 in 1.2656724452972412s\n",
      "Done with epoch 179 in 1.2566349506378174s\n",
      "Done with epoch 180 in 1.2311911582946777s\n",
      "Done with epoch 181 in 1.2408266067504883s\n",
      "Done with epoch 182 in 1.2346532344818115s\n",
      "Done with epoch 183 in 1.2387473583221436s\n",
      "Done with epoch 184 in 1.2414836883544922s\n",
      "Done with epoch 185 in 1.2442517280578613s\n",
      "Done with epoch 186 in 1.2381925582885742s\n",
      "Done with epoch 187 in 1.247972011566162s\n",
      "Done with epoch 188 in 1.2219083309173584s\n",
      "Done with epoch 189 in 1.222534418106079s\n",
      "Done with epoch 190 in 1.2331798076629639s\n",
      "Done with epoch 191 in 1.2371766567230225s\n",
      "Done with epoch 192 in 1.247089147567749s\n",
      "Done with epoch 193 in 1.247711181640625s\n",
      "Done with epoch 194 in 1.244640588760376s\n",
      "Done with epoch 195 in 1.2275934219360352s\n",
      "Done with epoch 196 in 1.230863094329834s\n",
      "Done with epoch 197 in 1.2208998203277588s\n",
      "Done with epoch 198 in 1.2322494983673096s\n",
      "Done with epoch 199 in 1.240178108215332s\n",
      "Done with epoch 200 in 1.2318236827850342s\n",
      "Done with epoch 201 in 1.2359199523925781s\n",
      "Done with epoch 202 in 1.2332499027252197s\n",
      "Done with epoch 203 in 1.2322657108306885s\n",
      "Done with epoch 204 in 1.2305536270141602s\n",
      "Done with epoch 205 in 1.2570927143096924s\n",
      "Done with epoch 206 in 1.2412338256835938s\n",
      "Done with epoch 207 in 1.247633695602417s\n",
      "Done with epoch 208 in 1.2430598735809326s\n",
      "Done with epoch 209 in 1.2400405406951904s\n",
      "Done with epoch 210 in 1.2330408096313477s\n",
      "Done with epoch 211 in 1.231785774230957s\n",
      "Done with epoch 212 in 1.2331058979034424s\n",
      "Saved model at /home/acauligi/cs_234/project/mlopt-micp/mlopt_cartpole_20200623_1034.pt\n",
      "Done with epoch 213 in 1.2379083633422852s\n",
      "Done with epoch 214 in 1.2351300716400146s\n",
      "Done with epoch 215 in 1.2313175201416016s\n",
      "Done with epoch 216 in 1.2234344482421875s\n",
      "Done with epoch 217 in 1.2212135791778564s\n",
      "Done with epoch 218 in 1.2081043720245361s\n",
      "Done with epoch 219 in 1.2597930431365967s\n",
      "Done with epoch 220 in 1.2474098205566406s\n",
      "Done with epoch 221 in 1.257683515548706s\n",
      "Done with epoch 222 in 1.2575139999389648s\n",
      "Done with epoch 223 in 1.2489352226257324s\n",
      "Done with epoch 224 in 1.2432360649108887s\n",
      "Done with epoch 225 in 1.2412409782409668s\n",
      "Done with epoch 226 in 1.2387049198150635s\n",
      "Done with epoch 227 in 1.2437870502471924s\n",
      "Done with epoch 228 in 1.2489242553710938s\n",
      "Done with epoch 229 in 1.2420530319213867s\n",
      "Done with epoch 230 in 1.240440845489502s\n",
      "Done with epoch 231 in 1.232656478881836s\n",
      "Done with epoch 232 in 1.2482821941375732s\n",
      "Done with epoch 233 in 1.2501089572906494s\n",
      "Done with epoch 234 in 1.2406764030456543s\n",
      "Done with epoch 235 in 1.2480049133300781s\n",
      "Done with epoch 236 in 1.2426769733428955s\n",
      "Done with epoch 237 in 1.239180564880371s\n",
      "Done with epoch 238 in 1.2430737018585205s\n",
      "Done with epoch 239 in 1.242553949356079s\n",
      "Done with epoch 240 in 1.2371585369110107s\n",
      "Done with epoch 241 in 1.2290456295013428s\n",
      "Done with epoch 242 in 1.2237915992736816s\n",
      "Done with epoch 243 in 1.1919724941253662s\n",
      "Done with epoch 244 in 1.1678590774536133s\n",
      "Done with epoch 245 in 1.2188270092010498s\n",
      "Done with epoch 246 in 1.2300286293029785s\n",
      "Done with epoch 247 in 1.2356226444244385s\n",
      "Done with epoch 248 in 1.2369849681854248s\n",
      "Done with epoch 249 in 1.2345895767211914s\n",
      "Done with epoch 250 in 1.235804557800293s\n",
      "Done with epoch 251 in 1.2707560062408447s\n",
      "Done with epoch 252 in 1.2454040050506592s\n",
      "Done with epoch 253 in 1.2383017539978027s\n",
      "Done with epoch 254 in 1.2214851379394531s\n",
      "Saved model at /home/acauligi/cs_234/project/mlopt-micp/mlopt_cartpole_20200623_1034.pt\n",
      "Done with epoch 255 in 1.2140252590179443s\n",
      "Done with epoch 256 in 1.2093603610992432s\n",
      "Done with epoch 257 in 1.197298288345337s\n",
      "Done with epoch 258 in 1.1684157848358154s\n",
      "Done with epoch 259 in 1.2227654457092285s\n",
      "Done with epoch 260 in 1.2742424011230469s\n",
      "Done with epoch 261 in 1.2468535900115967s\n",
      "Done with epoch 262 in 1.2558379173278809s\n",
      "Done with epoch 263 in 1.2387232780456543s\n",
      "Done with epoch 264 in 1.2342510223388672s\n",
      "Done with epoch 265 in 1.2352583408355713s\n",
      "Done with epoch 266 in 1.2441420555114746s\n",
      "Done with epoch 267 in 1.2339727878570557s\n",
      "Done with epoch 268 in 1.219308853149414s\n",
      "Done with epoch 269 in 1.224332571029663s\n",
      "Done with epoch 270 in 1.2408242225646973s\n",
      "Done with epoch 271 in 1.2496612071990967s\n",
      "Done with epoch 272 in 1.2434754371643066s\n",
      "Done with epoch 273 in 1.2500498294830322s\n",
      "Done with epoch 274 in 1.2371461391448975s\n",
      "Done with epoch 275 in 1.2274670600891113s\n",
      "Done with epoch 276 in 1.242858648300171s\n",
      "Done with epoch 277 in 1.2490718364715576s\n",
      "Done with epoch 278 in 1.2418179512023926s\n",
      "Done with epoch 279 in 1.2292346954345703s\n",
      "Done with epoch 280 in 1.2492387294769287s\n",
      "Done with epoch 281 in 1.2443079948425293s\n",
      "Done with epoch 282 in 1.2506523132324219s\n",
      "Done with epoch 283 in 1.2197799682617188s\n"
     ]
    },
    {
     "ename": "NameError",
     "evalue": "name 'y_out' is not defined",
     "output_type": "error",
     "traceback": [
      "\u001b[0;31m---------------------------------------------------------------------------\u001b[0m",
      "\u001b[0;31mNameError\u001b[0m                                 Traceback (most recent call last)",
      "\u001b[0;32m<ipython-input-32-acba3f1f4300>\u001b[0m in \u001b[0;36m<module>\u001b[0;34m\u001b[0m\n\u001b[1;32m      1\u001b[0m \u001b[0mreg_obj\u001b[0m\u001b[0;34m.\u001b[0m\u001b[0mtraining_params\u001b[0m\u001b[0;34m[\u001b[0m\u001b[0;34m'TRAINING_ITERATIONS'\u001b[0m\u001b[0;34m]\u001b[0m \u001b[0;34m=\u001b[0m \u001b[0;36m1000\u001b[0m\u001b[0;34m\u001b[0m\u001b[0m\n\u001b[1;32m      2\u001b[0m \u001b[0mreg_obj\u001b[0m\u001b[0;34m.\u001b[0m\u001b[0mtraining_params\u001b[0m\u001b[0;34m[\u001b[0m\u001b[0;34m'CHECKPOINT_AFTER'\u001b[0m\u001b[0;34m]\u001b[0m \u001b[0;34m=\u001b[0m \u001b[0;36m200000\u001b[0m\u001b[0;34m\u001b[0m\u001b[0m\n\u001b[0;32m----> 3\u001b[0;31m \u001b[0mreg_obj\u001b[0m\u001b[0;34m.\u001b[0m\u001b[0mtrain\u001b[0m\u001b[0;34m(\u001b[0m\u001b[0;34m)\u001b[0m\u001b[0;34m\u001b[0m\u001b[0m\n\u001b[0m\u001b[1;32m      4\u001b[0m \u001b[0mprint\u001b[0m\u001b[0;34m(\u001b[0m\u001b[0mreg_obj\u001b[0m\u001b[0;34m.\u001b[0m\u001b[0mmodel_fn\u001b[0m\u001b[0;34m)\u001b[0m\u001b[0;34m\u001b[0m\u001b[0m\n",
      "\u001b[0;32m~/cs_234/project/mlopt-micp/solvers/regression.py\u001b[0m in \u001b[0;36mtrain\u001b[0;34m(self)\u001b[0m\n\u001b[1;32m    170\u001b[0m                     \u001b[0;31m# forward + backward + optimize\u001b[0m\u001b[0;34m\u001b[0m\u001b[0;34m\u001b[0m\u001b[0m\n\u001b[1;32m    171\u001b[0m                     \u001b[0moutputs\u001b[0m \u001b[0;34m=\u001b[0m \u001b[0mmodel\u001b[0m\u001b[0;34m(\u001b[0m\u001b[0minputs\u001b[0m\u001b[0;34m)\u001b[0m\u001b[0;34m\u001b[0m\u001b[0m\n\u001b[0;32m--> 172\u001b[0;31m                     \u001b[0mloss\u001b[0m \u001b[0;34m=\u001b[0m \u001b[0mtraining_loss\u001b[0m\u001b[0;34m(\u001b[0m\u001b[0moutputs\u001b[0m\u001b[0;34m,\u001b[0m \u001b[0my_out\u001b[0m\u001b[0;34m)\u001b[0m\u001b[0;34m.\u001b[0m\u001b[0mfloat\u001b[0m\u001b[0;34m(\u001b[0m\u001b[0;34m)\u001b[0m\u001b[0;34m.\u001b[0m\u001b[0mcuda\u001b[0m\u001b[0;34m(\u001b[0m\u001b[0;34m)\u001b[0m\u001b[0;34m\u001b[0m\u001b[0m\n\u001b[0m\u001b[1;32m    173\u001b[0m                     \u001b[0moutputs\u001b[0m \u001b[0;34m=\u001b[0m \u001b[0mSigmoid\u001b[0m\u001b[0;34m(\u001b[0m\u001b[0;34m)\u001b[0m\u001b[0;34m(\u001b[0m\u001b[0moutputs\u001b[0m\u001b[0;34m)\u001b[0m\u001b[0;34m.\u001b[0m\u001b[0mround\u001b[0m\u001b[0;34m(\u001b[0m\u001b[0;34m)\u001b[0m\u001b[0;34m\u001b[0m\u001b[0m\n\u001b[1;32m    174\u001b[0m                     \u001b[0maccuracy\u001b[0m \u001b[0;34m=\u001b[0m \u001b[0;34m[\u001b[0m\u001b[0mfloat\u001b[0m\u001b[0;34m(\u001b[0m\u001b[0mall\u001b[0m\u001b[0;34m(\u001b[0m\u001b[0mtorch\u001b[0m\u001b[0;34m.\u001b[0m\u001b[0meq\u001b[0m\u001b[0;34m(\u001b[0m\u001b[0moutputs\u001b[0m\u001b[0;34m[\u001b[0m\u001b[0mii\u001b[0m\u001b[0;34m]\u001b[0m\u001b[0;34m,\u001b[0m\u001b[0my_out\u001b[0m\u001b[0;34m[\u001b[0m\u001b[0mii\u001b[0m\u001b[0;34m]\u001b[0m\u001b[0;34m)\u001b[0m\u001b[0;34m)\u001b[0m\u001b[0;34m)\u001b[0m \u001b[0;32mfor\u001b[0m \u001b[0mii\u001b[0m \u001b[0;32min\u001b[0m \u001b[0mrange\u001b[0m\u001b[0;34m(\u001b[0m\u001b[0mTEST_BATCH_SIZE\u001b[0m\u001b[0;34m)\u001b[0m\u001b[0;34m]\u001b[0m\u001b[0;34m\u001b[0m\u001b[0m\n",
      "\u001b[0;31mNameError\u001b[0m: name 'y_out' is not defined"
     ]
    }
   ],
   "source": [
    "reg_obj.training_params['TRAINING_ITERATIONS'] = 1000\n",
    "reg_obj.training_params['CHECKPOINT_AFTER'] = 200000\n",
    "reg_obj.train()\n",
    "print(reg_obj.model_fn)"
   ]
  },
  {
   "cell_type": "code",
   "execution_count": 43,
   "metadata": {},
   "outputs": [
    {
     "data": {
      "text/plain": [
       "{'x0': array([-0.12843226, -0.19593794,  0.74680797, -0.75136913]),\n",
       " 'xg': array([0., 0., 0., 0.])}"
      ]
     },
     "execution_count": 43,
     "metadata": {},
     "output_type": "execute_result"
    }
   ],
   "source": [
    "prob_params = {}\n",
    "idx = np.random.randint(test_data[1].shape[0])\n",
    "\n",
    "p_test = test_data[0]\n",
    "for k in p_test.keys():\n",
    "    prob_params[k] = p_test[k][idx]\n",
    "prob_params"
   ]
  },
  {
   "cell_type": "code",
   "execution_count": 44,
   "metadata": {},
   "outputs": [
    {
     "name": "stdout",
     "output_type": "stream",
     "text": [
      "Failed\n"
     ]
    }
   ],
   "source": [
    "prob_success, cost, total_time = reg_obj.forward(prob_params)\n",
    "\n",
    "if prob_success:\n",
    "    print(cost)\n",
    "else:\n",
    "    print('Failed')"
   ]
  },
  {
   "cell_type": "code",
   "execution_count": 45,
   "metadata": {},
   "outputs": [
    {
     "data": {
      "text/plain": [
       "27.704319702500612"
      ]
     },
     "execution_count": 45,
     "metadata": {},
     "output_type": "execute_result"
    }
   ],
   "source": [
    "prob_success, true_cost, solve_time, optvals = mlopt_obj.problem.solve_micp(prob_params)\n",
    "\n",
    "true_cost"
   ]
  },
  {
   "cell_type": "code",
   "execution_count": 51,
   "metadata": {},
   "outputs": [
    {
     "name": "stdout",
     "output_type": "stream",
     "text": [
      "0.57\n"
     ]
    }
   ],
   "source": [
    "n_succ = 0\n",
    "count = 0\n",
    "\n",
    "for ii in range(100):\n",
    "    prob_params = {}\n",
    "    idx = np.random.randint(test_data[1].shape[0])\n",
    "\n",
    "    p_test = test_data[0]\n",
    "    for k in p_test.keys():\n",
    "        prob_params[k] = p_test[k][idx]\n",
    "\n",
    "    prob_success, cost, total_time = reg_obj.forward(prob_params)\n",
    "\n",
    "    count += 1\n",
    "    if prob_success:\n",
    "        n_succ += 1\n",
    "\n",
    "print(float(n_succ)/float(count))"
   ]
  }
 ],
 "metadata": {
  "kernelspec": {
   "display_name": "mlopt",
   "language": "python",
   "name": "mlopt"
  },
  "language_info": {
   "codemirror_mode": {
    "name": "ipython",
    "version": 3
   },
   "file_extension": ".py",
   "mimetype": "text/x-python",
   "name": "python",
   "nbconvert_exporter": "python",
   "pygments_lexer": "ipython3",
   "version": "3.6.3"
  }
 },
 "nbformat": 4,
 "nbformat_minor": 4
}
