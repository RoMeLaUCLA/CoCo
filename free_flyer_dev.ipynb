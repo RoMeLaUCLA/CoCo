{
 "cells": [
  {
   "cell_type": "code",
   "execution_count": 1,
   "metadata": {},
   "outputs": [],
   "source": [
    "%load_ext autoreload\n",
    "%autoreload 2\n",
    "\n",
    "import matplotlib.pyplot as plt\n",
    "%matplotlib inline\n",
    "\n",
    "import torch\n",
    "from torch.autograd import Variable\n",
    "\n",
    "import numpy as np\n",
    "import cvxpy as cp\n",
    "\n",
    "from free_flyer.free_flyer import FreeFlyer\n",
    "import pickle, os"
   ]
  },
  {
   "cell_type": "code",
   "execution_count": 7,
   "metadata": {},
   "outputs": [],
   "source": [
    "#load train/test data\n",
    "prob = FreeFlyer() #use default config, pass different config file oth.\n",
    "config_fn = './free_flyer/config/default.p'\n",
    "\n",
    "config_file = open(config_fn,'rb')\n",
    "dataset_name, _, _ = pickle.load(config_file); config_file.close()\n",
    "\n",
    "relative_path = os.getcwd()\n",
    "dataset_fn = relative_path + '/free_flyer/data/' + dataset_name\n",
    "\n",
    "train_file = open(dataset_fn+'/train.p','rb')\n",
    "# p_train, x_train, u_train, y_train, c_train, times_train = pickle.load(train_file)\n",
    "train_data = pickle.load(train_file)\n",
    "train_file.close()\n",
    "x_train = train_data[1]\n",
    "y_train = train_data[3]\n",
    "\n",
    "test_file = open(dataset_fn+'/test.p','rb')\n",
    "# p_test, x_test, u_test, y_test, c_test, times_test = pickle.load(test_file)\n",
    "test_data = pickle.load(test_file)\n",
    "p_test, x_test, u_test, y_test, c_test, times_test = test_data\n",
    "test_file.close()\n",
    "\n",
    "n_test = x_test.shape[0]"
   ]
  },
  {
   "cell_type": "markdown",
   "metadata": {},
   "source": [
    "# naive MLOPT classifier"
   ]
  },
  {
   "cell_type": "code",
   "execution_count": 17,
   "metadata": {},
   "outputs": [
    {
     "name": "stdout",
     "output_type": "stream",
     "text": [
      "67217\n"
     ]
    }
   ],
   "source": [
    "from solvers.mlopt import MLOPT\n",
    "\n",
    "system = 'free_flyer'\n",
    "prob_features = ['x0', 'obstacles']\n",
    "mlopt_obj = MLOPT(system, prob, prob_features)\n",
    "\n",
    "n_features = 36\n",
    "mlopt_obj.construct_strategies(n_features, train_data)\n",
    "print(mlopt_obj.n_strategies)"
   ]
  },
  {
   "cell_type": "code",
   "execution_count": 18,
   "metadata": {},
   "outputs": [
    {
     "data": {
      "text/plain": [
       "FFNet(\n",
       "  (activation): ReLU()\n",
       "  (layers): ModuleList(\n",
       "    (0): Linear(in_features=36, out_features=32, bias=True)\n",
       "    (1): Linear(in_features=32, out_features=32, bias=True)\n",
       "    (2): Linear(in_features=32, out_features=32, bias=True)\n",
       "    (3): Linear(in_features=32, out_features=67217, bias=True)\n",
       "  )\n",
       ")"
      ]
     },
     "execution_count": 18,
     "metadata": {},
     "output_type": "execute_result"
    }
   ],
   "source": [
    "mlopt_obj.setup_network()\n",
    "\n",
    "fn_saved = 'mlopt_free_flyer_20200707_1425.pt'\n",
    "fn_saved = 'None'\n",
    "mlopt_obj.load_network(fn_saved)\n",
    "\n",
    "mlopt_obj.model"
   ]
  },
  {
   "cell_type": "code",
   "execution_count": null,
   "metadata": {},
   "outputs": [],
   "source": [
    "mlopt_obj.training_params['TRAINING_ITERATIONS'] = 500\n",
    "mlopt_obj.train(verbose=False)\n",
    "print(mlopt_obj.model_fn)"
   ]
  },
  {
   "cell_type": "code",
   "execution_count": null,
   "metadata": {},
   "outputs": [
    {
     "name": "stdout",
     "output_type": "stream",
     "text": [
      "0 / 10000\n"
     ]
    }
   ],
   "source": [
    "n_succ = 0\n",
    "count = 0\n",
    "\n",
    "costs_naive_mlopt = []\n",
    "total_time_naive_mlopt = []\n",
    "num_solves_naive_mlopt = []\n",
    "\n",
    "cost_ratios_naive_mlopt = []\n",
    "\n",
    "for ii in range(n_test):\n",
    "    if ii % 1000 == 0:\n",
    "        print('{} / {}'.format(ii,n_test))\n",
    "    prob_params = {}\n",
    "    for k in p_test.keys():\n",
    "        prob_params[k] = p_test[k][ii]\n",
    "\n",
    "    try:\n",
    "        prob_success, cost, total_time, n_evals, optvals = mlopt_obj.forward(prob_params)\n",
    "\n",
    "        count += 1\n",
    "        if prob_success:\n",
    "            n_succ += 1\n",
    "            costs_naive_mlopt += [cost]\n",
    "            total_time_naive_mlopt += [total_time]\n",
    "            num_solves_naive_mlopt += [n_evals]\n",
    "\n",
    "            true_cost = c_test[ii]\n",
    "            cost_ratios_naive_mlopt += [cost / true_cost]\n",
    "    except:\n",
    "        continue\n",
    "\n",
    "costs_naive_mlopt = np.array(costs_naive_mlopt)\n",
    "cost_ratios_naive_mlopt = np.array(cost_ratios_naive_mlopt)\n",
    "total_time_naive_mlopt = np.array(total_time_naive_mlopt)\n",
    "num_solves_naive_mlopt = np.array(num_solves_naive_mlopt, dtype=int)\n",
    "\n",
    "mlopt_naive_percentage = 100 * float(n_succ) / float(count)\n",
    "mlopt_naive_percentage"
   ]
  },
  {
   "cell_type": "code",
   "execution_count": null,
   "metadata": {},
   "outputs": [],
   "source": [
    "idx = np.random.randint(train_data[1].shape[0])\n",
    "x0 = train_data[0]['x0'][idx]\n",
    "n_obs = train_data[0]['obstacles'][idx].shape[1]\n",
    "posmin, posmax = mlopt_obj.problem.posmin, mlopt_obj.problem.posmax\n",
    "\n",
    "obstacles = []\n",
    "for ii_obs in range(n_obs):\n",
    "    obs = train_data[0]['obstacles'][idx][:,ii_obs]\n",
    "    obstacles.append(obs)\n",
    "\n",
    "if len(obstacles) is n_obs:\n",
    "    plt.axes()\n",
    "    for obstacle in obstacles:\n",
    "        rectangle = plt.Rectangle((obstacle[0], obstacle[2]), \\\n",
    "                                  obstacle[1]-obstacle[0], obstacle[3]-obstacle[2], \\\n",
    "                                 fc='red', ec='blue')\n",
    "        plt.gca().add_patch(rectangle)\n",
    "        plt.axis('scaled')\n",
    "\n",
    "    circle = plt.Circle((x0[0],x0[1]), 0.04, fc='blue',ec=\"green\")\n",
    "    plt.gca().add_patch(circle)    \n",
    "\n",
    "    ax = plt.gca()\n",
    "    ax.margins(0)\n",
    "    ax.set(xlim=(posmin[0],posmax[0]), ylim=(posmin[1],posmax[1]))\n",
    "    plt.show()"
   ]
  },
  {
   "cell_type": "markdown",
   "metadata": {},
   "source": [
    "# task-specific MLOPT"
   ]
  },
  {
   "cell_type": "code",
   "execution_count": 3,
   "metadata": {},
   "outputs": [],
   "source": [
    "from solvers.mlopt_ff import MLOPT_FF"
   ]
  },
  {
   "cell_type": "code",
   "execution_count": 9,
   "metadata": {},
   "outputs": [
    {
     "name": "stdout",
     "output_type": "stream",
     "text": [
      "458\n"
     ]
    }
   ],
   "source": [
    "system = 'free_flyer'\n",
    "prob_features = ['x0', 'obstacles']\n",
    "mlopt_ts_obj = MLOPT_FF(system, prob, prob_features)\n",
    "\n",
    "n_features = 4 + 4*prob.n_obs + prob.n_obs\n",
    "mlopt_ts_obj.construct_strategies(n_features, train_data)\n",
    "print(mlopt_ts_obj.n_strategies)"
   ]
  },
  {
   "cell_type": "code",
   "execution_count": 11,
   "metadata": {},
   "outputs": [
    {
     "data": {
      "text/plain": [
       "FFNet(\n",
       "  (activation): ReLU()\n",
       "  (layers): ModuleList(\n",
       "    (0): Linear(in_features=44, out_features=128, bias=True)\n",
       "    (1): Linear(in_features=128, out_features=128, bias=True)\n",
       "    (2): Linear(in_features=128, out_features=128, bias=True)\n",
       "    (3): Linear(in_features=128, out_features=458, bias=True)\n",
       "  )\n",
       ")"
      ]
     },
     "execution_count": 11,
     "metadata": {},
     "output_type": "execute_result"
    }
   ],
   "source": [
    "mlopt_ts_obj.setup_network()\n",
    "\n",
    "fn_saved = 'models/mloptff_free_flyer_20200702_1648.pt' # for data_files\n",
    "fn_saved = 'models/mloptff_free_flyer_20200715_1631.pt'        # new spaced apart data\n",
    "mlopt_ts_obj.load_network(fn_saved)\n",
    "\n",
    "mlopt_ts_obj.model"
   ]
  },
  {
   "cell_type": "code",
   "execution_count": null,
   "metadata": {
    "collapsed": true,
    "jupyter": {
     "outputs_hidden": true
    }
   },
   "outputs": [
    {
     "name": "stdout",
     "output_type": "stream",
     "text": [
      "loss:   2.621804714202881,   acc:  0.4375\n",
      "loss:   2.459498643875122,   acc:  0.34375\n",
      "loss:   2.2616827487945557,   acc:  0.4375\n",
      "loss:   2.2433159351348877,   acc:  0.5\n",
      "loss:   1.9593143463134766,   acc:  0.53125\n",
      "loss:   1.5043317079544067,   acc:  0.59375\n",
      "loss:   1.5069977045059204,   acc:  0.53125\n",
      "loss:   1.6051725149154663,   acc:  0.5\n",
      "loss:   1.4941112995147705,   acc:  0.59375\n",
      "loss:   1.7854900360107422,   acc:  0.5\n",
      "loss:   2.090888261795044,   acc:  0.46875\n",
      "Done with epoch 0 in 24.229624032974243s\n",
      "loss:   1.9242688417434692,   acc:  0.4375\n",
      "loss:   1.4038749933242798,   acc:  0.4375\n",
      "loss:   1.2796796560287476,   acc:  0.53125\n",
      "loss:   1.573239803314209,   acc:  0.4375\n",
      "loss:   1.7382869720458984,   acc:  0.46875\n",
      "loss:   1.3915371894836426,   acc:  0.59375\n",
      "loss:   1.4845337867736816,   acc:  0.59375\n",
      "loss:   1.5259040594100952,   acc:  0.5\n",
      "loss:   1.2398004531860352,   acc:  0.625\n",
      "loss:   1.55765700340271,   acc:  0.625\n",
      "loss:   1.7207660675048828,   acc:  0.4375\n",
      "Done with epoch 1 in 24.43536376953125s\n",
      "loss:   1.3380937576293945,   acc:  0.625\n",
      "loss:   1.3070099353790283,   acc:  0.5625\n",
      "loss:   0.997327446937561,   acc:  0.65625\n",
      "loss:   1.174593210220337,   acc:  0.5625\n",
      "loss:   1.618852138519287,   acc:  0.5625\n",
      "loss:   1.301985740661621,   acc:  0.625\n",
      "loss:   1.1557782888412476,   acc:  0.65625\n",
      "loss:   1.5546436309814453,   acc:  0.40625\n",
      "Saved model at /home/acauligi/cs_234/project/mlopt-micp/mloptff_free_flyer_20200715_1631.pt\n",
      "loss:   1.3170753717422485,   acc:  0.65625\n",
      "loss:   1.1907322406768799,   acc:  0.59375\n",
      "loss:   1.3799574375152588,   acc:  0.53125\n",
      "Done with epoch 2 in 24.61542320251465s\n",
      "loss:   0.9988297820091248,   acc:  0.59375\n",
      "loss:   1.3545491695404053,   acc:  0.59375\n",
      "loss:   1.2904393672943115,   acc:  0.59375\n",
      "loss:   0.8500956892967224,   acc:  0.75\n",
      "loss:   1.0235350131988525,   acc:  0.65625\n",
      "loss:   1.3038893938064575,   acc:  0.4375\n",
      "loss:   1.4869029521942139,   acc:  0.65625\n",
      "loss:   1.247444987297058,   acc:  0.625\n",
      "loss:   1.0733046531677246,   acc:  0.5\n",
      "loss:   1.219066858291626,   acc:  0.5\n",
      "loss:   0.7597696781158447,   acc:  0.71875\n",
      "loss:   0.9812017679214478,   acc:  0.65625\n",
      "Done with epoch 3 in 24.96406650543213s\n",
      "loss:   1.3787167072296143,   acc:  0.53125\n",
      "loss:   1.1044894456863403,   acc:  0.53125\n",
      "loss:   1.0705007314682007,   acc:  0.5625\n",
      "loss:   1.1046819686889648,   acc:  0.4375\n",
      "loss:   1.3373035192489624,   acc:  0.5\n",
      "loss:   1.332414984703064,   acc:  0.59375\n",
      "loss:   0.9692842364311218,   acc:  0.59375\n",
      "loss:   0.7296972274780273,   acc:  0.71875\n",
      "loss:   1.3594093322753906,   acc:  0.375\n",
      "loss:   1.2015703916549683,   acc:  0.53125\n",
      "loss:   0.6479055285453796,   acc:  0.8125\n",
      "Done with epoch 4 in 24.512114763259888s\n",
      "loss:   1.167815923690796,   acc:  0.65625\n",
      "loss:   0.8624172806739807,   acc:  0.6875\n",
      "loss:   1.5499628782272339,   acc:  0.5\n",
      "loss:   0.9774704575538635,   acc:  0.625\n",
      "Saved model at /home/acauligi/cs_234/project/mlopt-micp/mloptff_free_flyer_20200715_1631.pt\n",
      "loss:   1.2067238092422485,   acc:  0.5625\n",
      "loss:   1.299973487854004,   acc:  0.625\n",
      "loss:   1.2613710165023804,   acc:  0.625\n",
      "loss:   1.0813939571380615,   acc:  0.625\n",
      "loss:   1.325424075126648,   acc:  0.5625\n",
      "loss:   0.8230729103088379,   acc:  0.6875\n",
      "loss:   0.8748906254768372,   acc:  0.75\n",
      "Done with epoch 5 in 24.690940856933594s\n",
      "loss:   1.1526273488998413,   acc:  0.625\n",
      "loss:   1.1953349113464355,   acc:  0.5625\n",
      "loss:   0.9228596687316895,   acc:  0.6875\n",
      "loss:   1.200286865234375,   acc:  0.46875\n",
      "loss:   1.0970218181610107,   acc:  0.65625\n",
      "loss:   0.9240216612815857,   acc:  0.71875\n",
      "loss:   1.036737084388733,   acc:  0.5625\n",
      "loss:   0.9526656270027161,   acc:  0.75\n",
      "loss:   0.7970722913742065,   acc:  0.6875\n",
      "loss:   0.9541783928871155,   acc:  0.625\n",
      "loss:   1.0618683099746704,   acc:  0.59375\n",
      "Done with epoch 6 in 24.74175262451172s\n",
      "loss:   1.1369109153747559,   acc:  0.53125\n",
      "loss:   1.1320793628692627,   acc:  0.65625\n",
      "loss:   1.1535730361938477,   acc:  0.53125\n",
      "loss:   1.0334527492523193,   acc:  0.59375\n",
      "loss:   1.1116602420806885,   acc:  0.59375\n",
      "loss:   1.030964970588684,   acc:  0.6875\n",
      "loss:   0.9223082065582275,   acc:  0.5625\n",
      "loss:   1.1030704975128174,   acc:  0.625\n",
      "loss:   0.7043599486351013,   acc:  0.75\n",
      "loss:   0.755877673625946,   acc:  0.75\n",
      "loss:   1.4096837043762207,   acc:  0.5\n",
      "loss:   1.0682103633880615,   acc:  0.65625\n",
      "Saved model at /home/acauligi/cs_234/project/mlopt-micp/mloptff_free_flyer_20200715_1631.pt\n",
      "Done with epoch 7 in 25.194749116897583s\n",
      "loss:   0.7914299964904785,   acc:  0.625\n",
      "loss:   0.9166195392608643,   acc:  0.65625\n",
      "loss:   0.8448301553726196,   acc:  0.6875\n",
      "loss:   1.2983943223953247,   acc:  0.46875\n",
      "loss:   0.7402011752128601,   acc:  0.71875\n",
      "loss:   1.0106532573699951,   acc:  0.65625\n",
      "loss:   1.1558609008789062,   acc:  0.59375\n",
      "loss:   0.7339462041854858,   acc:  0.75\n",
      "loss:   1.1180312633514404,   acc:  0.59375\n",
      "loss:   0.7281801104545593,   acc:  0.78125\n",
      "loss:   1.132032871246338,   acc:  0.5625\n",
      "Done with epoch 8 in 24.924490690231323s\n",
      "loss:   0.8640788793563843,   acc:  0.625\n",
      "loss:   0.9930440783500671,   acc:  0.59375\n",
      "loss:   1.134931206703186,   acc:  0.625\n",
      "loss:   0.7841985821723938,   acc:  0.71875\n",
      "loss:   0.7591216564178467,   acc:  0.71875\n"
     ]
    }
   ],
   "source": [
    "mlopt_ts_obj.training_params['TRAINING_ITERATIONS'] = 500\n",
    "mlopt_ts_obj.train(verbose=True)\n",
    "print(mlopt_ts_obj.model_fn)"
   ]
  },
  {
   "cell_type": "code",
   "execution_count": null,
   "metadata": {},
   "outputs": [
    {
     "name": "stdout",
     "output_type": "stream",
     "text": [
      "0 / 10000\n"
     ]
    }
   ],
   "source": [
    "n_succ = 0\n",
    "count = 0\n",
    "gurobi_mlopt_fail = 0\n",
    "\n",
    "costs_mlopt = []\n",
    "total_time_mlopt = []\n",
    "num_solves_mlopt = []\n",
    "\n",
    "cost_ratios_mlopt = []\n",
    "costs_ip = []\n",
    "total_time_ip = []\n",
    "num_solves_ip = []\n",
    "\n",
    "for ii in range(n_test):\n",
    "    if ii % 1000 == 0:\n",
    "        print('{} / {}'.format(ii,n_test))\n",
    "    prob_params = {}\n",
    "    for k in p_test.keys():\n",
    "        prob_params[k] = p_test[k][ii]\n",
    "\n",
    "    try:\n",
    "        prob_success, cost, total_time, n_evals, optvals = mlopt_ts_obj.forward(prob_params)\n",
    "\n",
    "        count += 1\n",
    "        if prob_success:\n",
    "            n_succ += 1\n",
    "            costs_mlopt += [cost]\n",
    "            total_time_mlopt += [total_time]\n",
    "            num_solves_mlopt += [n_evals]\n",
    "\n",
    "            true_cost = c_test[ii]\n",
    "            costs_ip += [true_cost]\n",
    "            total_time_ip += [times_test[ii]]\n",
    "\n",
    "            cost_ratios_mlopt += [cost / true_cost]\n",
    "    except:\n",
    "        print('Solver failed at {}'.format(ii))\n",
    "        gurobi_mlopt_fail += 1\n",
    "        continue\n",
    "\n",
    "costs_mlopt = np.array(costs_mlopt)\n",
    "cost_ratios_mlopt = np.array(cost_ratios_mlopt)\n",
    "total_time_mlopt = np.array(total_time_mlopt)\n",
    "num_solves_mlopt = np.array(num_solves_mlopt, dtype=int)\n",
    "\n",
    "costs_ip = np.array(costs_ip)\n",
    "total_time_ip = np.array(total_time_ip)\n",
    "num_solves_ip = np.array(num_solves_ip, dtype=int)\n",
    "\n",
    "mlopt_percentage = 100 * float(n_succ) / float(count)\n",
    "mlopt_percentage"
   ]
  },
  {
   "cell_type": "code",
   "execution_count": 16,
   "metadata": {},
   "outputs": [
    {
     "data": {
      "text/plain": [
       "98.18945683705111"
      ]
     },
     "execution_count": 16,
     "metadata": {},
     "output_type": "execute_result"
    }
   ],
   "source": [
    "mlopt_percentage"
   ]
  },
  {
   "cell_type": "markdown",
   "metadata": {},
   "source": [
    "# test Regression solver"
   ]
  },
  {
   "cell_type": "code",
   "execution_count": 8,
   "metadata": {},
   "outputs": [],
   "source": [
    "from solvers.regression import Regression\n",
    "\n",
    "system = 'free_flyer'\n",
    "prob_features = ['x0', 'obstacles']\n",
    "reg_obj = Regression(system, prob, prob_features)\n",
    "\n",
    "n_features = 36\n",
    "reg_obj.construct_strategies(n_features, train_data)"
   ]
  },
  {
   "cell_type": "code",
   "execution_count": 9,
   "metadata": {},
   "outputs": [
    {
     "name": "stdout",
     "output_type": "stream",
     "text": [
      "Loading presaved regression model from models/regression_free_flyer_20200708_0809.pt\n"
     ]
    },
    {
     "data": {
      "text/plain": [
       "FFNet(\n",
       "  (activation): ReLU()\n",
       "  (layers): ModuleList(\n",
       "    (0): Linear(in_features=36, out_features=32, bias=True)\n",
       "    (1): Linear(in_features=32, out_features=32, bias=True)\n",
       "    (2): Linear(in_features=32, out_features=32, bias=True)\n",
       "    (3): Linear(in_features=32, out_features=160, bias=True)\n",
       "  )\n",
       ")"
      ]
     },
     "execution_count": 9,
     "metadata": {},
     "output_type": "execute_result"
    }
   ],
   "source": [
    "reg_obj.setup_network()\n",
    "\n",
    "fn_saved = 'models/regression_free_flyer_20200708_0809.pt'\n",
    "reg_obj.load_network(fn_saved)\n",
    "\n",
    "reg_obj.model"
   ]
  },
  {
   "cell_type": "code",
   "execution_count": null,
   "metadata": {},
   "outputs": [],
   "source": [
    "mlopt_obj.training_params['TRAINING_ITERATIONS'] = 500\n",
    "reg_obj.train(verbose=False)\n",
    "print(reg_obj.model_fn)"
   ]
  },
  {
   "cell_type": "code",
   "execution_count": null,
   "metadata": {},
   "outputs": [],
   "source": [
    "n_succ = 0\n",
    "count = 0\n",
    "\n",
    "costs_reg = []\n",
    "total_time_reg = []\n",
    "num_solves_reg = []\n",
    "\n",
    "cost_ratios_reg = []\n",
    "\n",
    "for ii in range(n_test):\n",
    "    prob_params = {}\n",
    "    for k in p_test.keys():\n",
    "        prob_params[k] = p_test[k][ii]\n",
    "\n",
    "    try:\n",
    "        prob_success, cost, total_time, optvals = reg_obj.forward(prob_params)\n",
    "\n",
    "        count += 1\n",
    "        if prob_success:\n",
    "            n_succ += 1\n",
    "            costs_reg += [cost]\n",
    "            total_time_reg += [total_time]\n",
    "            num_solves_reg += [1]\n",
    "\n",
    "            true_cost = c_test[ii]\n",
    "            cost_ratios_reg += [cost / true_cost]\n",
    "    except:\n",
    "        continue\n",
    "\n",
    "costs_reg = np.array(costs_reg)\n",
    "cost_ratios_reg = np.array(cost_ratios_reg)\n",
    "total_time_reg = np.array(total_time_reg)\n",
    "num_solves_reg = np.array(num_solves_reg, dtype=int)\n",
    "\n",
    "reg_percentage = 100 * float(n_succ) / float(count)\n",
    "reg_percentage"
   ]
  },
  {
   "cell_type": "markdown",
   "metadata": {},
   "source": [
    "# Results"
   ]
  },
  {
   "cell_type": "code",
   "execution_count": 24,
   "metadata": {},
   "outputs": [],
   "source": [
    "import math\n",
    "import seaborn as sns\n",
    "sns.set(font_scale=1.5, font=\"serif\", style=\"whitegrid\")\n",
    "import pandas as pd\n",
    "\n",
    "flierprops = {'alpha':0.2}"
   ]
  },
  {
   "cell_type": "code",
   "execution_count": 25,
   "metadata": {},
   "outputs": [
    {
     "data": {
      "image/png": "[encoded data removed]",
      "text/plain": [
       "<Figure size 432x288 with 1 Axes>"
      ]
     },
     "metadata": {},
     "output_type": "display_data"
    }
   ],
   "source": [
    "results = {'Gurobi':[100.], 'N-MLOPT':[mlopt_naive_percentage], 'MLOPT':[mlopt_percentage], 'Regressor':[reg_percentage]}\n",
    "results = pd.DataFrame(results)\n",
    "\n",
    "ax1 = sns.barplot(data=results, palette=\"Set3\", label='small')\n",
    "ax1.set(xlabel=\"\", ylabel=\"Percent Success\")\n",
    "\n",
    "plt.tight_layout()\n",
    "\n",
    "figure = ax1.get_figure()\n",
    "# # figure.savefig(\"loss.pdf\")"
   ]
  },
  {
   "cell_type": "code",
   "execution_count": 26,
   "metadata": {},
   "outputs": [
    {
     "data": {
      "image/png": "[encoded data removed]",
      "text/plain": [
       "<Figure size 432x288 with 1 Axes>"
      ]
     },
     "metadata": {},
     "output_type": "display_data"
    }
   ],
   "source": [
    "results = {}\n",
    "results['Policy'] = ['N-MLOPT']*len(num_solves_naive_mlopt) + \\\n",
    "    ['MLOPT']*len(num_solves_mlopt) + ['Regressor']*len(num_solves_reg)\n",
    "results['Solves'] = np.hstack((np.log10(num_solves_naive_mlopt), \\\n",
    "    np.log10(num_solves_mlopt), np.log10(num_solves_reg)))\n",
    "results = pd.DataFrame(results)\n",
    "\n",
    "ax1 = sns.boxplot(x=results['Policy'], y=results['Solves'], palette=\"Set3\", flierprops=flierprops)                            \n",
    "ax1.set(xlabel=\"\", ylabel=\"log(QCQPs Solved)\")\n",
    "\n",
    "plt.tight_layout()\n",
    "\n",
    "figure = ax1.get_figure()\n",
    "# figure.savefig(\"loss.pdf\")"
   ]
  },
  {
   "cell_type": "code",
   "execution_count": 27,
   "metadata": {},
   "outputs": [
    {
     "data": {
      "image/png": "[encoded data removed]",
      "text/plain": [
       "<Figure size 432x288 with 1 Axes>"
      ]
     },
     "metadata": {},
     "output_type": "display_data"
    }
   ],
   "source": [
    "results = {}\n",
    "results['Policy'] = ['Gurobi']*len(total_time_ip) + \\\n",
    "    ['N-MLOPT']*len(total_time_naive_mlopt) + ['MLOPT']*len(total_time_mlopt) + \\\n",
    "    ['Regressor']*len(total_time_reg)\n",
    "results['Time'] = np.hstack((np.log10(total_time_ip), \\\n",
    "    np.log10(total_time_naive_mlopt), np.log10(total_time_mlopt), \\\n",
    "    np.log10(total_time_reg)))\n",
    "results = pd.DataFrame(results)\n",
    "\n",
    "ax1 = sns.boxplot(x=results['Policy'], y=results['Time'], palette=\"Set3\", flierprops=flierprops)\n",
    "ax1.set(xlabel=\"\", ylabel=\"log(Time) [s]\")\n",
    "\n",
    "plt.tight_layout()\n",
    "\n",
    "figure = ax1.get_figure()\n",
    "# figure.savefig(\"loss.pdf\")"
   ]
  },
  {
   "cell_type": "code",
   "execution_count": 28,
   "metadata": {},
   "outputs": [
    {
     "data": {
      "image/png": "[encoded data removed]",
      "text/plain": [
       "<Figure size 432x288 with 1 Axes>"
      ]
     },
     "metadata": {},
     "output_type": "display_data"
    }
   ],
   "source": [
    "results = {}\n",
    "results['Policy'] = ['Gurobi']*len(costs_ip) + \\\n",
    "    ['N-MLOPT']*len(cost_ratios_naive_mlopt) + ['MLOPT']*len(cost_ratios_mlopt) +\\\n",
    "    ['Regressor']*len(cost_ratios_reg)\n",
    "results['Costs'] = np.hstack((100*np.ones(len(costs_ip)), \\\n",
    "    100*cost_ratios_naive_mlopt, 100*cost_ratios_mlopt, 100*cost_ratios_reg))\n",
    "results = pd.DataFrame(results)\n",
    "\n",
    "ax1 = sns.boxplot(x=results['Policy'], y=results['Costs'], palette=\"Set3\", flierprops=flierprops)\n",
    "ax1.set(xlabel=\"\", ylabel=\"Relative Cost [%]\")\n",
    "\n",
    "plt.tight_layout()\n",
    "# plt.ylim(0, int(math.ceil(np.max(np.maximum(costs_ip, costs_naive_mlopt, costs_mlopt)) / 10.0)) * 10)\n",
    "\n",
    "figure = ax1.get_figure()\n",
    "# figure.savefig(\"loss.pdf\")"
   ]
  }
 ],
 "metadata": {
  "kernelspec": {
   "display_name": "mlopt",
   "language": "python",
   "name": "mlopt"
  },
  "language_info": {
   "codemirror_mode": {
    "name": "ipython",
    "version": 3
   },
   "file_extension": ".py",
   "mimetype": "text/x-python",
   "name": "python",
   "nbconvert_exporter": "python",
   "pygments_lexer": "ipython3",
   "version": "3.6.3"
  }
 },
 "nbformat": 4,
 "nbformat_minor": 4
}
