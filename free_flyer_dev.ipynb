{
 "cells": [
  {
   "cell_type": "code",
   "execution_count": 1,
   "metadata": {},
   "outputs": [],
   "source": [
    "%load_ext autoreload\n",
    "%autoreload 2\n",
    "\n",
    "import matplotlib.pyplot as plt\n",
    "%matplotlib inline\n",
    "\n",
    "import torch\n",
    "from torch.autograd import Variable\n",
    "\n",
    "import numpy as np\n",
    "import cvxpy as cp\n",
    "\n",
    "from free_flyer.free_flyer import FreeFlyer\n",
    "import pickle, os"
   ]
  },
  {
   "cell_type": "code",
   "execution_count": 2,
   "metadata": {},
   "outputs": [],
   "source": [
    "#load train/test data\n",
    "prob = FreeFlyer() #use default config, pass different config file oth.\n",
    "config_fn = './free_flyer/config/default.p'\n",
    "\n",
    "config_file = open(config_fn,'rb')\n",
    "dataset_name, _, _ = pickle.load(config_file); config_file.close()\n",
    "\n",
    "relative_path = os.getcwd()\n",
    "dataset_fn = relative_path + '/free_flyer/data/' + dataset_name\n",
    "\n",
    "train_file = open(dataset_fn+'/train.p','rb')\n",
    "# p_train, x_train, u_train, y_train, c_train, times_train = pickle.load(train_file)\n",
    "train_data = pickle.load(train_file)\n",
    "train_file.close()\n",
    "x_train = train_data[1]\n",
    "y_train = train_data[3]\n",
    "\n",
    "test_file = open(dataset_fn+'/test.p','rb')\n",
    "# p_test, x_test, u_test, y_test, c_test, times_test = pickle.load(test_file)\n",
    "test_data = pickle.load(test_file)\n",
    "x_test = test_data[1]\n",
    "c_test = test_data[4]\n",
    "times_test = test_data[5]\n",
    "test_file.close()\n",
    "n_test = x_test.shape[0]\n",
    "n_test = 25"
   ]
  },
  {
   "cell_type": "markdown",
   "metadata": {},
   "source": [
    "# naive MLOPT classifier"
   ]
  },
  {
   "cell_type": "code",
   "execution_count": 3,
   "metadata": {},
   "outputs": [
    {
     "name": "stdout",
     "output_type": "stream",
     "text": [
      "64914\n"
     ]
    }
   ],
   "source": [
    "from solvers.mlopt import MLOPT\n",
    "\n",
    "system = 'free_flyer'\n",
    "prob_features = ['x0', 'obstacles']\n",
    "mlopt_obj = MLOPT(system, prob, prob_features)\n",
    "\n",
    "n_features = 36\n",
    "mlopt_obj.construct_strategies(n_features, train_data)\n",
    "print(mlopt_obj.n_strategies)"
   ]
  },
  {
   "cell_type": "code",
   "execution_count": 4,
   "metadata": {},
   "outputs": [
    {
     "data": {
      "text/plain": [
       "FFNet(\n",
       "  (activation): ReLU()\n",
       "  (layers): ModuleList(\n",
       "    (0): Linear(in_features=36, out_features=32, bias=True)\n",
       "    (1): Linear(in_features=32, out_features=32, bias=True)\n",
       "    (2): Linear(in_features=32, out_features=32, bias=True)\n",
       "    (3): Linear(in_features=32, out_features=64914, bias=True)\n",
       "  )\n",
       ")"
      ]
     },
     "execution_count": 4,
     "metadata": {},
     "output_type": "execute_result"
    }
   ],
   "source": [
    "mlopt_obj.setup_network()\n",
    "\n",
    "fn_saved = 'models/mlopt_free_flyer_20200624_1449.pt'\n",
    "mlopt_obj.load_network(fn_saved)\n",
    "\n",
    "mlopt_obj.model"
   ]
  },
  {
   "cell_type": "code",
   "execution_count": null,
   "metadata": {},
   "outputs": [],
   "source": [
    "mlopt_obj.training_params['TRAINING_ITERATIONS'] = 500\n",
    "mlopt_obj.train()\n",
    "print(mlopt_obj.model_fn)"
   ]
  },
  {
   "cell_type": "code",
   "execution_count": 5,
   "metadata": {},
   "outputs": [
    {
     "data": {
      "text/plain": [
       "44.0"
      ]
     },
     "execution_count": 5,
     "metadata": {},
     "output_type": "execute_result"
    }
   ],
   "source": [
    "n_succ = 0\n",
    "count = 0\n",
    "\n",
    "costs_naive_mlopt = []\n",
    "total_time_naive_mlopt = []\n",
    "num_solves_naive_mlopt = []\n",
    "\n",
    "cost_ratios_naive_mlopt = []\n",
    "\n",
    "for ii in range(n_test):\n",
    "    prob_params = {}\n",
    "    p_test = test_data[0]\n",
    "    for k in p_test.keys():\n",
    "        prob_params[k] = p_test[k][ii]\n",
    "\n",
    "    try:\n",
    "        prob_success, cost, total_time, n_evals = mlopt_obj.forward(prob_params)\n",
    "\n",
    "        count += 1\n",
    "        if prob_success:\n",
    "            n_succ += 1\n",
    "            costs_naive_mlopt += [cost]\n",
    "            total_time_naive_mlopt += [total_time]\n",
    "            num_solves_naive_mlopt += [n_evals]\n",
    "\n",
    "            true_cost = c_test[ii]\n",
    "            cost_ratios_naive_mlopt += [cost / true_cost]\n",
    "    except:\n",
    "        continue\n",
    "\n",
    "costs_naive_mlopt = np.array(costs_naive_mlopt)\n",
    "cost_ratios_naive_mlopt = np.array(cost_ratios_naive_mlopt)\n",
    "total_time_naive_mlopt = np.array(total_time_naive_mlopt)\n",
    "num_solves_naive_mlopt = np.array(num_solves_naive_mlopt, dtype=int)\n",
    "\n",
    "mlopt_naive_percentage = 100 * float(n_succ) / float(count)\n",
    "mlopt_naive_percentage"
   ]
  },
  {
   "cell_type": "code",
   "execution_count": null,
   "metadata": {},
   "outputs": [],
   "source": [
    "idx = np.random.randint(train_data[1].shape[0])\n",
    "x0 = train_data[0]['x0'][idx]\n",
    "n_obs = train_data[0]['obstacles'][idx].shape[1]\n",
    "posmin, posmax = mlopt_obj.problem.posmin, mlopt_obj.problem.posmax\n",
    "\n",
    "obstacles = []\n",
    "for ii_obs in range(n_obs):\n",
    "    obs = train_data[0]['obstacles'][idx][:,ii_obs]\n",
    "    obstacles.append(obs)\n",
    "\n",
    "if len(obstacles) is n_obs:\n",
    "    plt.axes()\n",
    "    for obstacle in obstacles:\n",
    "        rectangle = plt.Rectangle((obstacle[0], obstacle[2]), \\\n",
    "                                  obstacle[1]-obstacle[0], obstacle[3]-obstacle[2], \\\n",
    "                                 fc='red', ec='blue')\n",
    "        plt.gca().add_patch(rectangle)\n",
    "        plt.axis('scaled')\n",
    "\n",
    "    circle = plt.Circle((x0[0],x0[1]), 0.04, fc='blue',ec=\"green\")\n",
    "    plt.gca().add_patch(circle)    \n",
    "\n",
    "    ax = plt.gca()\n",
    "    ax.margins(0)\n",
    "    ax.set(xlim=(posmin[0],posmax[0]), ylim=(posmin[1],posmax[1]))\n",
    "    plt.show()"
   ]
  },
  {
   "cell_type": "markdown",
   "metadata": {},
   "source": [
    "# task-specific MLOPT"
   ]
  },
  {
   "cell_type": "code",
   "execution_count": 6,
   "metadata": {},
   "outputs": [],
   "source": [
    "from solvers.mlopt_ff import MLOPT_FF"
   ]
  },
  {
   "cell_type": "code",
   "execution_count": 7,
   "metadata": {},
   "outputs": [
    {
     "name": "stdout",
     "output_type": "stream",
     "text": [
      "430\n"
     ]
    }
   ],
   "source": [
    "system = 'free_flyer'\n",
    "prob_features = ['x0', 'obstacles']\n",
    "mlopt_ts_obj = MLOPT_FF(system, prob, prob_features)\n",
    "\n",
    "n_features = 36 + prob.n_obs\n",
    "mlopt_ts_obj.construct_strategies(n_features, train_data)\n",
    "print(mlopt_ts_obj.n_strategies)"
   ]
  },
  {
   "cell_type": "code",
   "execution_count": 8,
   "metadata": {},
   "outputs": [
    {
     "name": "stdout",
     "output_type": "stream",
     "text": [
      "Loading presaved classifier model from models/mloptff_free_flyer_20200702_1648.pt\n"
     ]
    },
    {
     "data": {
      "text/plain": [
       "FFNet(\n",
       "  (activation): ReLU()\n",
       "  (layers): ModuleList(\n",
       "    (0): Linear(in_features=44, out_features=128, bias=True)\n",
       "    (1): Linear(in_features=128, out_features=128, bias=True)\n",
       "    (2): Linear(in_features=128, out_features=128, bias=True)\n",
       "    (3): Linear(in_features=128, out_features=430, bias=True)\n",
       "  )\n",
       ")"
      ]
     },
     "execution_count": 8,
     "metadata": {},
     "output_type": "execute_result"
    }
   ],
   "source": [
    "mlopt_ts_obj.setup_network()\n",
    "\n",
    "fn_saved = 'models/mloptff_free_flyer_20200702_1648.pt'\n",
    "mlopt_ts_obj.load_network(fn_saved)\n",
    "\n",
    "mlopt_ts_obj.model"
   ]
  },
  {
   "cell_type": "code",
   "execution_count": null,
   "metadata": {},
   "outputs": [],
   "source": [
    "mlopt_ts_obj.training_params['TRAINING_ITERATIONS'] = 500\n",
    "mlopt_ts_obj.train(verbose=True)\n",
    "print(mlopt_ts_obj.model_fn)"
   ]
  },
  {
   "cell_type": "code",
   "execution_count": 9,
   "metadata": {},
   "outputs": [
    {
     "data": {
      "text/plain": [
       "44.0"
      ]
     },
     "execution_count": 9,
     "metadata": {},
     "output_type": "execute_result"
    }
   ],
   "source": [
    "n_succ = 0\n",
    "count = 0\n",
    "\n",
    "costs_mlopt = []\n",
    "total_time_mlopt = []\n",
    "num_solves_mlopt = []\n",
    "\n",
    "cost_ratios_mlopt = []\n",
    "costs_ip = []\n",
    "total_time_ip = []\n",
    "num_solves_ip = []\n",
    "\n",
    "for ii in range(n_test):\n",
    "    prob_params = {}\n",
    "    p_test = test_data[0]\n",
    "    for k in p_test.keys():\n",
    "        prob_params[k] = p_test[k][ii]\n",
    "\n",
    "    try:\n",
    "        prob_success, cost, total_time, n_evals = mlopt_obj.forward(prob_params)\n",
    "\n",
    "        count += 1\n",
    "        if prob_success:\n",
    "            n_succ += 1\n",
    "            costs_mlopt += [cost]\n",
    "            total_time_mlopt += [total_time]\n",
    "            num_solves_mlopt += [n_evals]\n",
    "\n",
    "            true_cost = c_test[ii]\n",
    "            costs_ip += [true_cost]\n",
    "            total_time_ip += [times_test[ii]]\n",
    "\n",
    "            cost_ratios_mlopt += [cost / true_cost]\n",
    "    except:\n",
    "        continue\n",
    "\n",
    "costs_mlopt = np.array(costs_mlopt)\n",
    "cost_ratios_mlopt = np.array(cost_ratios_mlopt)\n",
    "total_time_mlopt = np.array(total_time_mlopt)\n",
    "num_solves_mlopt = np.array(num_solves_mlopt, dtype=int)\n",
    "\n",
    "costs_ip = np.array(costs_ip)\n",
    "total_time_ip = np.array(total_time_ip)\n",
    "num_solves_ip = np.array(num_solves_ip, dtype=int)\n",
    "\n",
    "mlopt_percentage = 100 * float(n_succ) / float(count)\n",
    "mlopt_percentage"
   ]
  },
  {
   "cell_type": "markdown",
   "metadata": {},
   "source": [
    "# test Regression solver"
   ]
  },
  {
   "cell_type": "code",
   "execution_count": 10,
   "metadata": {},
   "outputs": [],
   "source": [
    "from solvers.regression import Regression\n",
    "\n",
    "system = 'free_flyer'\n",
    "prob_features = ['x0', 'obstacles']\n",
    "reg_obj = Regression(system, prob, prob_features)\n",
    "\n",
    "n_features = 36\n",
    "reg_obj.construct_strategies(n_features, train_data)"
   ]
  },
  {
   "cell_type": "code",
   "execution_count": 11,
   "metadata": {},
   "outputs": [
    {
     "data": {
      "text/plain": [
       "FFNet(\n",
       "  (activation): ReLU()\n",
       "  (layers): ModuleList(\n",
       "    (0): Linear(in_features=36, out_features=32, bias=True)\n",
       "    (1): Linear(in_features=32, out_features=32, bias=True)\n",
       "    (2): Linear(in_features=32, out_features=32, bias=True)\n",
       "    (3): Linear(in_features=32, out_features=160, bias=True)\n",
       "  )\n",
       ")"
      ]
     },
     "execution_count": 11,
     "metadata": {},
     "output_type": "execute_result"
    }
   ],
   "source": [
    "reg_obj.setup_network()\n",
    "\n",
    "reg_obj.model"
   ]
  },
  {
   "cell_type": "code",
   "execution_count": null,
   "metadata": {},
   "outputs": [],
   "source": [
    "mlopt_obj.training_params['TRAINING_ITERATIONS'] = 500\n",
    "reg_obj.train()\n",
    "print(reg_obj.model_fn)"
   ]
  },
  {
   "cell_type": "code",
   "execution_count": 12,
   "metadata": {},
   "outputs": [
    {
     "data": {
      "text/plain": [
       "0.0"
      ]
     },
     "execution_count": 12,
     "metadata": {},
     "output_type": "execute_result"
    }
   ],
   "source": [
    "n_succ = 0\n",
    "count = 0\n",
    "\n",
    "costs_reg = []\n",
    "total_time_reg = []\n",
    "num_solves_reg = []\n",
    "\n",
    "cost_ratios_reg = []\n",
    "\n",
    "for ii in range(n_test):\n",
    "    prob_params = {}\n",
    "    p_test = test_data[0]\n",
    "    for k in p_test.keys():\n",
    "        prob_params[k] = p_test[k][ii]\n",
    "\n",
    "    try:\n",
    "        prob_success, cost, total_time = reg_obj.forward(prob_params)\n",
    "\n",
    "        count += 1\n",
    "        if prob_success:\n",
    "            n_succ += 1\n",
    "            costs_reg += [cost]\n",
    "            total_time_reg += [total_time]\n",
    "            num_solves_reg += [1]\n",
    "\n",
    "            true_cost = c_test[ii]\n",
    "            cost_ratios_reg += [cost / true_cost]\n",
    "    except:\n",
    "        continue\n",
    "\n",
    "costs_reg = np.array(costs_reg)\n",
    "cost_ratios_reg = np.array(cost_ratios_reg)\n",
    "total_time_reg = np.array(total_time_reg)\n",
    "num_solves_reg = np.array(num_solves_reg, dtype=int)\n",
    "\n",
    "reg_percentage = 100 * float(n_succ) / float(count)\n",
    "reg_percentage"
   ]
  },
  {
   "cell_type": "markdown",
   "metadata": {},
   "source": [
    "# Results"
   ]
  },
  {
   "cell_type": "code",
   "execution_count": 13,
   "metadata": {},
   "outputs": [],
   "source": [
    "import math\n",
    "import seaborn as sns\n",
    "sns.set(font_scale=2., font=\"serif\", style=\"whitegrid\")\n",
    "import pandas as pd"
   ]
  },
  {
   "cell_type": "code",
   "execution_count": 21,
   "metadata": {},
   "outputs": [
    {
     "data": {
      "image/png": "[encoded data removed]",
      "text/plain": [
       "<Figure size 432x288 with 1 Axes>"
      ]
     },
     "metadata": {},
     "output_type": "display_data"
    }
   ],
   "source": [
    "results = {'Gurobi':[100.], 'N-MLOPT':[mlopt_naive_percentage], 'MLOPT':[mlopt_percentage], 'Regressor':[reg_percentage]}\n",
    "results = pd.DataFrame(results)\n",
    "\n",
    "ax1 = sns.barplot(data=results, palette=\"Set3\")\n",
    "ax1.set(xlabel=\"\", ylabel=\"Percent Success\")\n",
    "\n",
    "plt.tight_layout()\n",
    "\n",
    "figure = ax1.get_figure()\n",
    "# # figure.savefig(\"loss.pdf\")"
   ]
  },
  {
   "cell_type": "code",
   "execution_count": 20,
   "metadata": {},
   "outputs": [
    {
     "data": {
      "image/png": "[encoded data removed]",
      "text/plain": [
       "<Figure size 432x288 with 1 Axes>"
      ]
     },
     "metadata": {},
     "output_type": "display_data"
    }
   ],
   "source": [
    "results = {'N-MLOPT':np.log10(num_solves_naive_mlopt), \\\n",
    "          'MLOPT':np.log10(num_solves_mlopt)} #, 'Regressor':np.log10(num_solves_reg)}\n",
    "results = pd.DataFrame(results)\n",
    "\n",
    "ax1 = sns.boxplot(data=results, palette=\"Set3\")\n",
    "ax1.set(xlabel=\"\", ylabel=\"log(QCQPs Solved)\")\n",
    "\n",
    "plt.tight_layout()\n",
    "\n",
    "figure = ax1.get_figure()\n",
    "# figure.savefig(\"loss.pdf\")"
   ]
  },
  {
   "cell_type": "code",
   "execution_count": 19,
   "metadata": {},
   "outputs": [
    {
     "data": {
      "image/png": "[encoded data removed]",
      "text/plain": [
       "<Figure size 432x288 with 1 Axes>"
      ]
     },
     "metadata": {},
     "output_type": "display_data"
    }
   ],
   "source": [
    "results = {'Gurobi': np.log10(total_time_ip), 'N-MLOPT':np.log10(total_time_naive_mlopt), \\\n",
    "          'MLOPT':np.log10(total_time_mlopt)} #, 'Regressor':np.log10(total_time_reg)}\n",
    "results = pd.DataFrame(results)\n",
    "\n",
    "ax1 = sns.boxplot(data=results, palette=\"Set3\")\n",
    "ax1.set(xlabel=\"\", ylabel=\"log(Time) [s]\")\n",
    "\n",
    "plt.tight_layout()\n",
    "\n",
    "figure = ax1.get_figure()\n",
    "# figure.savefig(\"loss.pdf\")"
   ]
  },
  {
   "cell_type": "code",
   "execution_count": 18,
   "metadata": {},
   "outputs": [
    {
     "data": {
      "image/png": "[encoded data removed]",
      "text/plain": [
       "<Figure size 432x288 with 1 Axes>"
      ]
     },
     "metadata": {},
     "output_type": "display_data"
    }
   ],
   "source": [
    "results = {'N-MLOPT':100.*cost_ratios_naive_mlopt, \\\n",
    "          'MLOPT':100.*cost_ratios_mlopt} #, 'Regressor':100.*cost_ratios_reg}\n",
    "results = pd.DataFrame(results)\n",
    "\n",
    "ax1 = sns.boxplot(data=results, palette=\"Set3\")\n",
    "ax1.set(xlabel=\"\", ylabel=\"Relative Cost [%]\")\n",
    "\n",
    "plt.tight_layout()\n",
    "plt.ylim(0, int(math.ceil(np.max(np.maximum(costs_ip, costs_naive_mlopt, costs_mlopt)) / 10.0)) * 10)\n",
    "\n",
    "figure = ax1.get_figure()\n",
    "# figure.savefig(\"loss.pdf\")"
   ]
  }
 ],
 "metadata": {
  "kernelspec": {
   "display_name": "mlopt",
   "language": "python",
   "name": "mlopt"
  },
  "language_info": {
   "codemirror_mode": {
    "name": "ipython",
    "version": 3
   },
   "file_extension": ".py",
   "mimetype": "text/x-python",
   "name": "python",
   "nbconvert_exporter": "python",
   "pygments_lexer": "ipython3",
   "version": "3.6.3"
  }
 },
 "nbformat": 4,
 "nbformat_minor": 4
}
