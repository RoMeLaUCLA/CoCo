{
 "cells": [
  {
   "cell_type": "code",
   "execution_count": 1,
   "metadata": {},
   "outputs": [],
   "source": [
    "%load_ext autoreload\n",
    "%autoreload 2\n",
    "\n",
    "import pickle, os\n",
    "import numpy as np\n",
    "\n",
    "import matplotlib.pyplot as plt\n",
    "%matplotlib inline\n",
    "\n",
    "from free_flyer import FreeFlyer"
   ]
  },
  {
   "cell_type": "code",
   "execution_count": 2,
   "metadata": {},
   "outputs": [],
   "source": [
    "def findIC(obstacles, posmin, posmax, velmin, velmax):\n",
    "    \"\"\" Given list of obstacles, find IC that is collision free\"\"\"\n",
    "    IC_found = False\n",
    "    while not IC_found:\n",
    "        r0 = posmin + (posmax-posmin)*np.random.rand(2)\n",
    "        if not any([r0[0] >= obstacle[0] and r0[0] <= obstacle[1] and \\\n",
    "             r0[1] >= obstacle[2] and r0[1] <= obstacle[3] \\\n",
    "             for obstacle in obstacles]):\n",
    "            IC_found = True\n",
    "    x0 = np.hstack((r0, velmin + (velmax-velmin)*np.random.rand(2)))\n",
    "    return x0"
   ]
  },
  {
   "cell_type": "code",
   "execution_count": 3,
   "metadata": {},
   "outputs": [],
   "source": [
    "def is_free_state(x0, obstacles, posmin, posmax):\n",
    "    \"\"\" Check if x0 is free state given list of obstacles\"\"\"\n",
    "    if any([x0[0] >= obstacle[0] and x0[0] <= obstacle[1] and \\\n",
    "             x0[1] >= obstacle[2] and x0[1] <= obstacle[3] \\\n",
    "             for obstacle in obstacles]):\n",
    "        return False\n",
    "    return True"
   ]
  },
  {
   "cell_type": "code",
   "execution_count": 4,
   "metadata": {},
   "outputs": [],
   "source": [
    "def find_obs(x0, posmin, posmax, n_obs, max_iter=50):\n",
    "    \"\"\" Given state x0, place obstacles between x0 and posmax\"\"\"\n",
    "    obs = []\n",
    "    itr = 0\n",
    "    while len(obs) < n_obs and itr < max_iter:\n",
    "        xmin = (posmax[0] - border_size - max_box_size)*np.random.rand() + border_size\n",
    "        xmin = np.max([xmin, x0[0]])\n",
    "        xmax = xmin + min_box_size  + (max_box_size - min_box_size)*np.random.rand()\n",
    "        ymin = (posmax[1] - border_size - max_box_size)*np.random.rand() + border_size\n",
    "        ymin = np.max([ymin, x0[1]])\n",
    "        ymax = ymin + min_box_size  + (max_box_size - min_box_size)*np.random.rand()\n",
    "        obstacle = np.array([xmin - box_buffer, xmax + box_buffer, \\\n",
    "                        ymin - box_buffer, ymax + box_buffer])\n",
    "        if is_free_state(x0, [obstacle], posmin, posmax):\n",
    "            obs.append(obstacle)\n",
    "        itr += 1\n",
    "\n",
    "    if len(obs) is not n_obs:\n",
    "        return []\n",
    "    return obs"
   ]
  },
  {
   "cell_type": "code",
   "execution_count": 5,
   "metadata": {},
   "outputs": [],
   "source": [
    "def random_obs(n_obs, posmin, posmax, border_size, \\\n",
    "              min_box_size, max_box_size):\n",
    "    \"\"\" Generate random list of obstacles in workspace \"\"\"\n",
    "    obstacles = []\n",
    "    for ii in range(n_obs):\n",
    "        xmin = (posmax[0] - border_size - max_box_size)*np.random.rand() + border_size\n",
    "        xmax = xmin + min_box_size  + (max_box_size - min_box_size)*np.random.rand()\n",
    "        ymin = (posmax[1] - border_size - max_box_size)*np.random.rand() + border_size\n",
    "        ymax = ymin + min_box_size  + (max_box_size - min_box_size)*np.random.rand()\n",
    "        obstacle = np.array([xmin - box_buffer, xmax + box_buffer, \\\n",
    "                            ymin - box_buffer, ymax + box_buffer])\n",
    "        obstacles.append(obstacle)\n",
    "    return obstacles"
   ]
  },
  {
   "cell_type": "markdown",
   "metadata": {},
   "source": [
    "# Problem parameters"
   ]
  },
  {
   "cell_type": "code",
   "execution_count": 6,
   "metadata": {},
   "outputs": [],
   "source": [
    "n = 2; m = 2\n",
    "\n",
    "N = 6 # horizon\n",
    "dh = 0.75\n",
    "Ak = np.eye(2*n)\n",
    "Ak[:n,n:] = dh*np.eye(n)\n",
    "Bk = np.zeros((2*n,m))\n",
    "Bk[:n,:] = 0.5*dh**2 * np.eye(n)\n",
    "Bk[n:,:] = dh*np.eye(n)\n",
    "\n",
    "Q = np.diag([2,2,1,1.])\n",
    "R = 0.1*np.eye(m)\n",
    "\n",
    "mass_ff_min = 15.36\n",
    "mass_ff_max = 18.08\n",
    "mass_ff = 0.5*(mass_ff_min+mass_ff_max)\n",
    "thrust_max = 2*1.  # max thrust [N] from two thrusters \n",
    "umin = -thrust_max/mass_ff\n",
    "umax = thrust_max/mass_ff\n",
    "velmin = -0.2\n",
    "velmax = 0.2\n",
    "posmin = np.zeros(n)\n",
    "\n",
    "ft2m = 0.3048\n",
    "posmax = ft2m*np.array([12.,9.])\n",
    "max_box_size = 0.75\n",
    "min_box_size = 0.25\n",
    "box_buffer = 0.025\n",
    "border_size = 0.05\n",
    "\n",
    "n_obs = 8\n",
    "\n",
    "prob_params = [N, Ak, Bk, Q, R, n_obs , \\\n",
    "    posmin, posmax, velmin, velmax, umin, umax]"
   ]
  },
  {
   "cell_type": "markdown",
   "metadata": {},
   "source": [
    "### Randomly sample obstacles and then find free x0"
   ]
  },
  {
   "cell_type": "code",
   "execution_count": 7,
   "metadata": {},
   "outputs": [
    {
     "data": {
      "image/png": "[encoded data removed]",
      "text/plain": [
       "<Figure size 432x288 with 1 Axes>"
      ]
     },
     "metadata": {
      "needs_background": "light"
     },
     "output_type": "display_data"
    },
    {
     "data": {
      "text/plain": [
       "<Figure size 432x288 with 0 Axes>"
      ]
     },
     "metadata": {},
     "output_type": "display_data"
    }
   ],
   "source": [
    "obstacles = random_obs(n_obs, posmin, posmax, border_size, min_box_size, max_box_size)\n",
    "x0 = findIC(obstacles, posmin, posmax, velmin, velmax)\n",
    "\n",
    "plt.axes()\n",
    "for obstacle in obstacles:\n",
    "    rectangle = plt.Rectangle((obstacle[0], obstacle[2]), \\\n",
    "                              obstacle[1]-obstacle[0], obstacle[3]-obstacle[2], \\\n",
    "                             fc='red', ec='blue')\n",
    "    plt.gca().add_patch(rectangle)\n",
    "    plt.axis('scaled')\n",
    "\n",
    "circle = plt.Circle((x0[0],x0[1]), 0.04, fc='blue',ec=\"green\")\n",
    "plt.gca().add_patch(circle)    \n",
    "\n",
    "ax = plt.gca()\n",
    "ax.margins(0)\n",
    "ax.set(xlim=(posmin[0],posmax[0]), ylim=(posmin[1],posmax[1]))\n",
    "fig = plt.figure()\n",
    "plt.show()"
   ]
  },
  {
   "cell_type": "markdown",
   "metadata": {},
   "source": [
    "### Or sample x0 and place obstacles along the way to xg"
   ]
  },
  {
   "cell_type": "code",
   "execution_count": 8,
   "metadata": {},
   "outputs": [
    {
     "data": {
      "image/png": "[encoded data removed]",
      "text/plain": [
       "<Figure size 432x288 with 1 Axes>"
      ]
     },
     "metadata": {
      "needs_background": "light"
     },
     "output_type": "display_data"
    }
   ],
   "source": [
    "x0 = np.hstack((posmin + (posmax-posmin)*np.random.rand(2), \\\n",
    "               velmin + (velmax-velmin)*np.random.rand(2)))\n",
    "obstacles = find_obs(x0, posmin, posmax, n_obs)\n",
    "\n",
    "if len(obstacles) is n_obs:\n",
    "    plt.axes()\n",
    "    for obstacle in obstacles:\n",
    "        rectangle = plt.Rectangle((obstacle[0], obstacle[2]), \\\n",
    "                                  obstacle[1]-obstacle[0], obstacle[3]-obstacle[2], \\\n",
    "                                 fc='red', ec='blue')\n",
    "        plt.gca().add_patch(rectangle)\n",
    "        plt.axis('scaled')\n",
    "\n",
    "    circle = plt.Circle((x0[0],x0[1]), 0.04, fc='blue',ec=\"green\")\n",
    "    plt.gca().add_patch(circle)    \n",
    "\n",
    "    ax = plt.gca()\n",
    "    ax.margins(0)\n",
    "    ax.set(xlim=(posmin[0],posmax[0]), ylim=(posmin[1],posmax[1]))\n",
    "    plt.show()"
   ]
  },
  {
   "cell_type": "markdown",
   "metadata": {},
   "source": [
    "### For obstacle map feature, shade in one particular obstacle"
   ]
  },
  {
   "cell_type": "code",
   "execution_count": 9,
   "metadata": {},
   "outputs": [
    {
     "data": {
      "image/png": "[encoded data removed]",
      "text/plain": [
       "<Figure size 432x288 with 1 Axes>"
      ]
     },
     "metadata": {
      "needs_background": "light"
     },
     "output_type": "display_data"
    }
   ],
   "source": [
    "obs_ii = 7\n",
    "\n",
    "W_H_ratio = posmax[0] / posmax[1]\n",
    "H = 32\n",
    "W = int(W_H_ratio * H)\n",
    "\n",
    "table_img = np.ones((H,W,3))\n",
    "\n",
    "obs_ll = [ii for ii in range(n_obs) if ii is not obs_ii]\n",
    "obs_ll.append(obs_ii)\n",
    "obs_ll\n",
    "for ll in obs_ll:\n",
    "    obs = obstacles[ll]\n",
    "    row_range = range(int(float(obs[2])/posmax[1]*H), int(float(obs[3])/posmax[1]*H))\n",
    "    col_range = range(int(float(obs[0])/posmax[0]*W), int(float(obs[1])/posmax[0]*W))\n",
    "    row_range = range(np.maximum(row_range[0],0), np.minimum(row_range[-1],H))\n",
    "    col_range = range(np.maximum(col_range[0],0), np.minimum(col_range[-1],W))\n",
    "\n",
    "    if ll is obs_ii:\n",
    "        table_img[row_range[0]:row_range[-1], col_range[0]:col_range[-1], :] = 1\n",
    "        table_img[row_range[0]:row_range[-1], col_range[0]:col_range[-1], :2] = 0\n",
    "    else:\n",
    "        table_img[row_range[0]:row_range[-1], col_range[0]:col_range[-1], 1:] = 0\n",
    "\n",
    "plt.imshow(table_img)\n",
    "plt.gca().invert_yaxis()"
   ]
  },
  {
   "cell_type": "markdown",
   "metadata": {},
   "source": [
    "# Setup pickle file for default parameters"
   ]
  },
  {
   "cell_type": "code",
   "execution_count": 16,
   "metadata": {},
   "outputs": [],
   "source": [
    "#setup filenames\n",
    "relative_path = os.getcwd()\n",
    "dataset_name = 'default'\n",
    "\n",
    "if not os.path.isdir(os.path.join(relative_path, 'data', dataset_name)):\n",
    "    os.mkdir(os.path.join(relative_path+'/data/'+dataset_name))\n",
    "    \n",
    "if not os.path.isdir(os.path.join(relative_path, 'config')):\n",
    "    os.mkdir(os.path.join(relative_path, 'config'))\n",
    "\n",
    "train_fn = os.path.join(relative_path, 'data', dataset_name, 'train.p')\n",
    "test_fn = os.path.join(relative_path, 'data', dataset_name, 'test.p')\n",
    "\n",
    "#load default parameter values\n",
    "n = 2; m = 2\n",
    "\n",
    "#define all possible params that can be varied\n",
    "all_params = ['N', 'Ak', 'Bk', 'Q', 'R', 'n_obs', \\\n",
    "    'posmin', 'posmax', 'velmin', 'velmax', \\\n",
    "    'umin', 'umax', \\\n",
    "    'x0', 'xg', 'obstacles']\n",
    "\n",
    "## TODO(pculbertson): implement custom param variation.\n",
    "#plan: split all_params into static & sampled params\n",
    "#in Problem object, keep param dict with keys == all_params\n",
    "#on constructing problem, make every param key map to either static value\n",
    "#or a cvxpy.Parameter object.\n",
    "\n",
    "### VARY ANY DESIRED PARAM VALUES HERE ###\n",
    "\n",
    "param_dict = {'N':N, 'Ak':Ak, 'Bk':Bk, 'Q':Q, 'R':R, 'n_obs':n_obs, \\\n",
    "    'posmin':posmin, 'posmax':posmax, 'velmin':velmin, 'velmax':velmax, \\\n",
    "    'umin':umin, 'umax':umax}\n",
    "\n",
    "#specify which parameters to sample, & their distributions\n",
    "sampled_params = ['x0', 'xg', 'obstacles']\n",
    "sample_dists = {'x0': lambda: np.hstack((posmin + (posmax-posmin)*np.random.rand(2), \\\n",
    "               velmin + (velmax-velmin)*np.random.rand(2))) ,\\\n",
    "               'xg': lambda: np.hstack((0.9*posmax, np.zeros(n))), \\\n",
    "               'obstacles': lambda: random_obs(n_obs, posmin, posmax, border_size, min_box_size, max_box_size)}\n",
    "\n",
    "#specify dataset sizes\n",
    "num_train = 90000; num_test = 10000\n",
    "num_probs = num_train + num_test\n",
    "\n",
    "#write out config\n",
    "config_fn = os.path.join(relative_path, 'config', dataset_name+'.p')\n",
    "\n",
    "config = [dataset_name, prob_params, sampled_params]\n",
    "outfile = open(config_fn,\"wb\")\n",
    "pickle.dump(config,outfile); outfile.close()"
   ]
  },
  {
   "cell_type": "markdown",
   "metadata": {},
   "source": [
    "# Generate training+test set data by solving MICPs"
   ]
  },
  {
   "cell_type": "code",
   "execution_count": 17,
   "metadata": {},
   "outputs": [],
   "source": [
    "prob = FreeFlyer()\n",
    "\n",
    "#create numpy containers for data: (params, x, u, y, J*, solve_time)\n",
    "params = {}\n",
    "if 'x0' in sampled_params:\n",
    "    params['x0'] = np.zeros((num_probs,2*n))\n",
    "if 'xg' in sampled_params:\n",
    "    params['xg'] = np.zeros((num_probs,2*n))\n",
    "if 'obstacles' in sampled_params:\n",
    "    params['obstacles'] = np.zeros((num_probs, 4, n_obs))\n",
    "\n",
    "X = np.zeros((num_probs, 2*n, N));\n",
    "U = np.zeros((num_probs, m, N-1))\n",
    "Y = np.zeros((num_probs, 4*n_obs, N-1)).astype(int)\n",
    "\n",
    "costs = np.zeros(num_probs)\n",
    "solve_times = np.zeros(num_probs)"
   ]
  },
  {
   "cell_type": "code",
   "execution_count": 18,
   "metadata": {},
   "outputs": [
    {
     "name": "stdout",
     "output_type": "stream",
     "text": [
      "Done with problem 8893\n",
      "Done with problem 17669\n",
      "Done with problem 26547\n",
      "Done with problem 35380\n",
      "Done with problem 44148\n",
      "Done with problem 52934\n",
      "Done with problem 61800\n",
      "Done with problem 70634\n",
      "Done with problem 79465\n",
      "Done with problem 88242\n",
      "Done with problem 97049\n"
     ]
    }
   ],
   "source": [
    "total_count = 0\n",
    "ii = 0\n",
    "ii_obs = 0\n",
    "ii_toggle = 0\n",
    "obs_new_ct = 5\n",
    "toggle_ct = 10\n",
    "toggle_obstacles = True\n",
    "\n",
    "#big for loop, sampling problem data, solving MICP, & storing\n",
    "while ii < num_probs:\n",
    "    total_count += 1\n",
    "    if total_count % 10000 == 0:\n",
    "        print('Done with problem {}'.format(ii))\n",
    "\n",
    "    p_dict = {}\n",
    "    if 'x0' in sampled_params or 'obstacles' in sampled_params:\n",
    "        if toggle_obstacles:\n",
    "            x0 = sample_dists['x0']()\n",
    "            obstacles = find_obs(x0, posmin, posmax, n_obs)\n",
    "            if len(obstacles) is not n_obs:\n",
    "                continue\n",
    "\n",
    "            if ii_toggle % obs_new_ct == 0:\n",
    "                toggle_obstacles = False\n",
    "                ii_obs = 0\n",
    "                ii_toggle = 0\n",
    "\n",
    "            params['x0'][ii,:] = x0\n",
    "            params['obstacles'][ii,:] = np.reshape(np.concatenate(obstacles, axis=0), (n_obs,4)).T\n",
    "        else:\n",
    "            if ii_obs % obs_new_ct == 0:\n",
    "                obstacles = \\\n",
    "                    random_obs(n_obs, posmin, posmax, border_size, min_box_size, max_box_size)\n",
    "            x0 = findIC(obstacles, posmin, posmax, velmin, velmax)\n",
    "            \n",
    "            if ii_toggle % toggle_ct == 0:\n",
    "                toggle_obstacles = True\n",
    "                ii_obs = 0\n",
    "                ii_toggle = 0\n",
    "\n",
    "        params['obstacles'][ii,:] = np.reshape(np.concatenate(obstacles, axis=0), (n_obs,4)).T\n",
    "        params['x0'][ii,:] = x0\n",
    "\n",
    "        p_dict['x0'] = params['x0'][ii,:]\n",
    "        p_dict['obstacles'] = params['obstacles'][ii,:]\n",
    "\n",
    "    if 'xg' in sampled_params:\n",
    "        params['xg'][ii,:] = sample_dists['xg']()\n",
    "        p_dict['xg'] = params['xg'][ii,:]\n",
    "    \n",
    "    try:\n",
    "        prob_success, cost, solve_time, optvals = prob.solve_micp(p_dict)\n",
    "    except (KeyboardInterrupt, SystemExit):\n",
    "        raise\n",
    "    except:\n",
    "        print('mosek failed at '.format(ii))\n",
    "\n",
    "    if prob_success:\n",
    "        costs[ii] = cost; solve_times[ii] = solve_time\n",
    "        X[ii,:,:], U[ii,:,:], Y[ii,:,:] = optvals\n",
    "        ii += 1\n",
    "        ii_obs += 1\n",
    "        ii_toggle += 1"
   ]
  },
  {
   "cell_type": "code",
   "execution_count": 19,
   "metadata": {},
   "outputs": [
    {
     "name": "stdout",
     "output_type": "stream",
     "text": [
      "done\n"
     ]
    }
   ],
   "source": [
    "print('done')"
   ]
  },
  {
   "cell_type": "markdown",
   "metadata": {},
   "source": [
    "### Data generated with spatial relations, so shuffle indices"
   ]
  },
  {
   "cell_type": "code",
   "execution_count": 20,
   "metadata": {},
   "outputs": [],
   "source": [
    "arr = np.arange(num_probs)\n",
    "np.random.shuffle(arr)\n",
    "\n",
    "X = X[arr]\n",
    "U = U[arr]\n",
    "Y = Y[arr]\n",
    "\n",
    "if 'x0' in sampled_params:\n",
    "    params['x0'] = params['x0'][arr]\n",
    "if 'xg' in sampled_params:\n",
    "    params['xg'] = params['xg'][arr]\n",
    "if 'obstacles' in sampled_params:\n",
    "    params['obstacles'] = params['obstacles'][arr]\n",
    "\n",
    "costs = costs[arr]\n",
    "solve_times = solve_times[arr]"
   ]
  },
  {
   "cell_type": "code",
   "execution_count": 21,
   "metadata": {},
   "outputs": [],
   "source": [
    "#post-processing + write out\n",
    "train_params = {}; test_params = {}\n",
    "if 'x0' in sampled_params:\n",
    "    train_params['x0'] = params['x0'][:num_train,:]\n",
    "    test_params['x0'] = params['x0'][num_train:,:]\n",
    "if 'obstacles' in sampled_params:\n",
    "    train_params['obstacles'] = params['obstacles'][:num_train,:]\n",
    "    test_params['obstacles'] = params['obstacles'][num_train:,:]\n",
    "if 'xg' in sampled_params:\n",
    "    train_params['xg'] = params['xg'][:num_train,:]\n",
    "    test_params['xg'] = params['xg'][num_train:,:]\n",
    "\n",
    "train_data = [train_params]\n",
    "train_data += [X[:num_train,:,:], U[:num_train,:,:], Y[:num_train,:,:]]\n",
    "train_data += [costs[:num_train], solve_times[:num_train]]\n",
    "\n",
    "test_data = [test_params]\n",
    "test_data += [X[num_train:,:,:], U[num_train:,:,:], Y[num_train:,:,:]]\n",
    "test_data += [costs[num_train:], solve_times[num_train:]]\n",
    "\n",
    "train_file = open(train_fn,'wb')\n",
    "pickle.dump(train_data,train_file); train_file.close()\n",
    "\n",
    "test_file = open(test_fn, 'wb')\n",
    "pickle.dump(test_data,test_file); test_file.close()"
   ]
  },
  {
   "cell_type": "code",
   "execution_count": null,
   "metadata": {},
   "outputs": [],
   "source": [
    "train_file = open(train_fn,'rb')\n",
    "p, x, u, y, c, s = pickle.load(train_file); train_file.close()"
   ]
  },
  {
   "cell_type": "code",
   "execution_count": null,
   "metadata": {},
   "outputs": [],
   "source": [
    "idx = np.random.randint(train_data[1].shape[0])\n",
    "\n",
    "obstacles = []\n",
    "for ii_obs in range(n_obs):\n",
    "    obs = train_data[0]['obstacles'][idx][:,ii_obs]\n",
    "    obstacles.append(obs)\n",
    "\n",
    "x0 = train_data[0]['x0'][idx]\n",
    "# x0 = findIC(obstacles, posmin, posmax, velmin, velmax)\n",
    "\n",
    "if len(obstacles) is n_obs:\n",
    "    plt.axes()\n",
    "    for obstacle in obstacles:\n",
    "        rectangle = plt.Rectangle((obstacle[0], obstacle[2]), \\\n",
    "                                  obstacle[1]-obstacle[0], obstacle[3]-obstacle[2], \\\n",
    "                                 fc='red', ec='blue')\n",
    "        plt.gca().add_patch(rectangle)\n",
    "        plt.axis('scaled')\n",
    "\n",
    "    circle = plt.Circle((x0[0],x0[1]), 0.04, fc='blue',ec=\"green\")\n",
    "    plt.gca().add_patch(circle)    \n",
    "\n",
    "    ax = plt.gca()\n",
    "    ax.margins(0)\n",
    "    ax.set(xlim=(posmin[0],posmax[0]), ylim=(posmin[1],posmax[1]))\n",
    "    plt.show()"
   ]
  },
  {
   "cell_type": "code",
   "execution_count": null,
   "metadata": {},
   "outputs": [],
   "source": [
    "# shitty = True\n",
    "# x0, obstacles = None, None\n",
    "# while shitty:\n",
    "#     obstacles = random_obs(n_obs, posmin, posmax, border_size, min_box_size, max_box_size)\n",
    "#     x0 = findIC(obstacles, posmin, posmax, velmin, velmax)\n",
    "#     if all([x0[0] <= obstacle[0] and x0[0] <= obstacle[1] and \\\n",
    "#                  x0[1] <= obstacle[2] and x0[1] <= obstacle[3] for obstacle in obstacles]):\n",
    "#         shitty = False\n",
    "# obstacles = random_obs(n_obs, posmin, posmax, border_size, min_box_size, max_box_size)\n",
    "# x0 = findIC(obstacles, posmin, posmax, velmin, velmax)\n",
    "\n",
    "# if len(obstacles) is n_obs:\n",
    "#     plt.axes()\n",
    "#     for obstacle in obstacles:\n",
    "#         rectangle = plt.Rectangle((obstacle[0], obstacle[2]), \\\n",
    "#                                   obstacle[1]-obstacle[0], obstacle[3]-obstacle[2], \\\n",
    "#                                  fc='red', ec='blue')\n",
    "#         plt.gca().add_patch(rectangle)\n",
    "#         plt.axis('scaled')\n",
    "\n",
    "#     circle = plt.Circle((x0[0],x0[1]), 0.04, fc='blue',ec=\"green\")\n",
    "#     plt.gca().add_patch(circle)   \n",
    "\n",
    "#     ax = plt.gca()\n",
    "#     ax.margins(0)\n",
    "#     ax.set(xlim=(posmin[0],posmax[0]), ylim=(posmin[1],posmax[1]))\n",
    "#     plt.show()"
   ]
  },
  {
   "cell_type": "code",
   "execution_count": null,
   "metadata": {},
   "outputs": [],
   "source": [
    "# prob.init_bin_problem()\n",
    "\n",
    "# p_dict = {}\n",
    "# p_dict['x0'] = x0\n",
    "# p_dict['obstacles'] = np.reshape(np.concatenate(obstacles, axis=0), (n_obs,4)).T\n",
    "# p_dict['xg'] = sample_dists['xg']()\n",
    "\n",
    "# prob_success, cost, solve_time, optvals = prob.solve_micp(p_dict)\n",
    "# prob_success"
   ]
  },
  {
   "cell_type": "code",
   "execution_count": null,
   "metadata": {},
   "outputs": [],
   "source": [
    "# X = optvals[0]\n",
    "\n",
    "# plt.axes()\n",
    "# for obstacle in obstacles:\n",
    "#     rectangle = plt.Rectangle((obstacle[0], obstacle[2]), \\\n",
    "#                               obstacle[1]-obstacle[0], obstacle[3]-obstacle[2], \\\n",
    "#                              fc='red', ec='blue')\n",
    "#     plt.gca().add_patch(rectangle)\n",
    "#     plt.axis('scaled')\n",
    "\n",
    "# for jj in range(N):\n",
    "#     circle = plt.Circle((X[0,jj],X[1,jj]), 0.04, fc='blue',ec=\"blue\")\n",
    "#     plt.gca().add_patch(circle)   \n",
    "    \n",
    "# xg = p_dict['xg']\n",
    "# circle = plt.Circle((xg[0],xg[1]), 0.04, fc='red',ec=\"red\")\n",
    "# plt.gca().add_patch(circle)   \n",
    "\n",
    "# ax = plt.gca()\n",
    "# ax.margins(0)\n",
    "# ax.set(xlim=(posmin[0],posmax[0]), ylim=(posmin[1],posmax[1]))\n",
    "# plt.show()"
   ]
  }
 ],
 "metadata": {
  "kernelspec": {
   "display_name": "mlopt",
   "language": "python",
   "name": "mlopt"
  },
  "language_info": {
   "codemirror_mode": {
    "name": "ipython",
    "version": 3
   },
   "file_extension": ".py",
   "mimetype": "text/x-python",
   "name": "python",
   "nbconvert_exporter": "python",
   "pygments_lexer": "ipython3",
   "version": "3.6.3"
  }
 },
 "nbformat": 4,
 "nbformat_minor": 4
}
